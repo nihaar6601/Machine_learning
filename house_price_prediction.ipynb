{
  "nbformat": 4,
  "nbformat_minor": 0,
  "metadata": {
    "colab": {
      "name": "Copy of new final sd .ipynb",
      "provenance": []
    },
    "kernelspec": {
      "name": "python3",
      "display_name": "Python 3"
    },
    "language_info": {
      "name": "python"
    }
  },
  "cells": [
    {
      "cell_type": "code",
      "metadata": {
        "id": "AZM4lfDLKqIV"
      },
      "source": [
        "import pandas as pd\n",
        "import numpy as np\n",
        "import seaborn as sns\n",
        "import matplotlib.pyplot as plt"
      ],
      "execution_count": null,
      "outputs": []
    },
    {
      "cell_type": "code",
      "metadata": {
        "id": "6yIpTUf8SJXA"
      },
      "source": [
        "Data = pd.read_csv('kc_house_data.csv')"
      ],
      "execution_count": null,
      "outputs": []
    },
    {
      "cell_type": "code",
      "metadata": {
        "colab": {
          "base_uri": "https://localhost:8080/",
          "height": 379
        },
        "id": "vKeiMphHSxMi",
        "outputId": "37d59bdd-6575-48c8-bd91-5591de86d716"
      },
      "source": [
        "Data.head(10)"
      ],
      "execution_count": null,
      "outputs": [
        {
          "output_type": "execute_result",
          "data": {
            "text/html": [
              "<div>\n",
              "<style scoped>\n",
              "    .dataframe tbody tr th:only-of-type {\n",
              "        vertical-align: middle;\n",
              "    }\n",
              "\n",
              "    .dataframe tbody tr th {\n",
              "        vertical-align: top;\n",
              "    }\n",
              "\n",
              "    .dataframe thead th {\n",
              "        text-align: right;\n",
              "    }\n",
              "</style>\n",
              "<table border=\"1\" class=\"dataframe\">\n",
              "  <thead>\n",
              "    <tr style=\"text-align: right;\">\n",
              "      <th></th>\n",
              "      <th>id</th>\n",
              "      <th>date</th>\n",
              "      <th>price</th>\n",
              "      <th>bedrooms</th>\n",
              "      <th>bathrooms</th>\n",
              "      <th>sqft_living</th>\n",
              "      <th>sqft_lot</th>\n",
              "      <th>floors</th>\n",
              "      <th>waterfront</th>\n",
              "      <th>view</th>\n",
              "      <th>condition</th>\n",
              "      <th>grade</th>\n",
              "      <th>sqft_above</th>\n",
              "      <th>sqft_basement</th>\n",
              "      <th>yr_built</th>\n",
              "      <th>yr_renovated</th>\n",
              "      <th>zipcode</th>\n",
              "      <th>lat</th>\n",
              "      <th>long</th>\n",
              "      <th>sqft_living15</th>\n",
              "      <th>sqft_lot15</th>\n",
              "    </tr>\n",
              "  </thead>\n",
              "  <tbody>\n",
              "    <tr>\n",
              "      <th>0</th>\n",
              "      <td>7129300520</td>\n",
              "      <td>20141013T000000</td>\n",
              "      <td>221900.00000</td>\n",
              "      <td>3</td>\n",
              "      <td>1.00000</td>\n",
              "      <td>1180</td>\n",
              "      <td>5650</td>\n",
              "      <td>1.00000</td>\n",
              "      <td>0</td>\n",
              "      <td>0</td>\n",
              "      <td>3</td>\n",
              "      <td>7</td>\n",
              "      <td>1180</td>\n",
              "      <td>0</td>\n",
              "      <td>1955</td>\n",
              "      <td>0</td>\n",
              "      <td>98178</td>\n",
              "      <td>47.51120</td>\n",
              "      <td>-122.25700</td>\n",
              "      <td>1340</td>\n",
              "      <td>5650</td>\n",
              "    </tr>\n",
              "    <tr>\n",
              "      <th>1</th>\n",
              "      <td>6414100192</td>\n",
              "      <td>20141209T000000</td>\n",
              "      <td>538000.00000</td>\n",
              "      <td>3</td>\n",
              "      <td>2.25000</td>\n",
              "      <td>2570</td>\n",
              "      <td>7242</td>\n",
              "      <td>2.00000</td>\n",
              "      <td>0</td>\n",
              "      <td>0</td>\n",
              "      <td>3</td>\n",
              "      <td>7</td>\n",
              "      <td>2170</td>\n",
              "      <td>400</td>\n",
              "      <td>1951</td>\n",
              "      <td>1991</td>\n",
              "      <td>98125</td>\n",
              "      <td>47.72100</td>\n",
              "      <td>-122.31900</td>\n",
              "      <td>1690</td>\n",
              "      <td>7639</td>\n",
              "    </tr>\n",
              "    <tr>\n",
              "      <th>2</th>\n",
              "      <td>5631500400</td>\n",
              "      <td>20150225T000000</td>\n",
              "      <td>180000.00000</td>\n",
              "      <td>2</td>\n",
              "      <td>1.00000</td>\n",
              "      <td>770</td>\n",
              "      <td>10000</td>\n",
              "      <td>1.00000</td>\n",
              "      <td>0</td>\n",
              "      <td>0</td>\n",
              "      <td>3</td>\n",
              "      <td>6</td>\n",
              "      <td>770</td>\n",
              "      <td>0</td>\n",
              "      <td>1933</td>\n",
              "      <td>0</td>\n",
              "      <td>98028</td>\n",
              "      <td>47.73790</td>\n",
              "      <td>-122.23300</td>\n",
              "      <td>2720</td>\n",
              "      <td>8062</td>\n",
              "    </tr>\n",
              "    <tr>\n",
              "      <th>3</th>\n",
              "      <td>2487200875</td>\n",
              "      <td>20141209T000000</td>\n",
              "      <td>604000.00000</td>\n",
              "      <td>4</td>\n",
              "      <td>3.00000</td>\n",
              "      <td>1960</td>\n",
              "      <td>5000</td>\n",
              "      <td>1.00000</td>\n",
              "      <td>0</td>\n",
              "      <td>0</td>\n",
              "      <td>5</td>\n",
              "      <td>7</td>\n",
              "      <td>1050</td>\n",
              "      <td>910</td>\n",
              "      <td>1965</td>\n",
              "      <td>0</td>\n",
              "      <td>98136</td>\n",
              "      <td>47.52080</td>\n",
              "      <td>-122.39300</td>\n",
              "      <td>1360</td>\n",
              "      <td>5000</td>\n",
              "    </tr>\n",
              "    <tr>\n",
              "      <th>4</th>\n",
              "      <td>1954400510</td>\n",
              "      <td>20150218T000000</td>\n",
              "      <td>510000.00000</td>\n",
              "      <td>3</td>\n",
              "      <td>2.00000</td>\n",
              "      <td>1680</td>\n",
              "      <td>8080</td>\n",
              "      <td>1.00000</td>\n",
              "      <td>0</td>\n",
              "      <td>0</td>\n",
              "      <td>3</td>\n",
              "      <td>8</td>\n",
              "      <td>1680</td>\n",
              "      <td>0</td>\n",
              "      <td>1987</td>\n",
              "      <td>0</td>\n",
              "      <td>98074</td>\n",
              "      <td>47.61680</td>\n",
              "      <td>-122.04500</td>\n",
              "      <td>1800</td>\n",
              "      <td>7503</td>\n",
              "    </tr>\n",
              "    <tr>\n",
              "      <th>5</th>\n",
              "      <td>7237550310</td>\n",
              "      <td>20140512T000000</td>\n",
              "      <td>1225000.00000</td>\n",
              "      <td>4</td>\n",
              "      <td>4.50000</td>\n",
              "      <td>5420</td>\n",
              "      <td>101930</td>\n",
              "      <td>1.00000</td>\n",
              "      <td>0</td>\n",
              "      <td>0</td>\n",
              "      <td>3</td>\n",
              "      <td>11</td>\n",
              "      <td>3890</td>\n",
              "      <td>1530</td>\n",
              "      <td>2001</td>\n",
              "      <td>0</td>\n",
              "      <td>98053</td>\n",
              "      <td>47.65610</td>\n",
              "      <td>-122.00500</td>\n",
              "      <td>4760</td>\n",
              "      <td>101930</td>\n",
              "    </tr>\n",
              "    <tr>\n",
              "      <th>6</th>\n",
              "      <td>1321400060</td>\n",
              "      <td>20140627T000000</td>\n",
              "      <td>257500.00000</td>\n",
              "      <td>3</td>\n",
              "      <td>2.25000</td>\n",
              "      <td>1715</td>\n",
              "      <td>6819</td>\n",
              "      <td>2.00000</td>\n",
              "      <td>0</td>\n",
              "      <td>0</td>\n",
              "      <td>3</td>\n",
              "      <td>7</td>\n",
              "      <td>1715</td>\n",
              "      <td>0</td>\n",
              "      <td>1995</td>\n",
              "      <td>0</td>\n",
              "      <td>98003</td>\n",
              "      <td>47.30970</td>\n",
              "      <td>-122.32700</td>\n",
              "      <td>2238</td>\n",
              "      <td>6819</td>\n",
              "    </tr>\n",
              "    <tr>\n",
              "      <th>7</th>\n",
              "      <td>2008000270</td>\n",
              "      <td>20150115T000000</td>\n",
              "      <td>291850.00000</td>\n",
              "      <td>3</td>\n",
              "      <td>1.50000</td>\n",
              "      <td>1060</td>\n",
              "      <td>9711</td>\n",
              "      <td>1.00000</td>\n",
              "      <td>0</td>\n",
              "      <td>0</td>\n",
              "      <td>3</td>\n",
              "      <td>7</td>\n",
              "      <td>1060</td>\n",
              "      <td>0</td>\n",
              "      <td>1963</td>\n",
              "      <td>0</td>\n",
              "      <td>98198</td>\n",
              "      <td>47.40950</td>\n",
              "      <td>-122.31500</td>\n",
              "      <td>1650</td>\n",
              "      <td>9711</td>\n",
              "    </tr>\n",
              "    <tr>\n",
              "      <th>8</th>\n",
              "      <td>2414600126</td>\n",
              "      <td>20150415T000000</td>\n",
              "      <td>229500.00000</td>\n",
              "      <td>3</td>\n",
              "      <td>1.00000</td>\n",
              "      <td>1780</td>\n",
              "      <td>7470</td>\n",
              "      <td>1.00000</td>\n",
              "      <td>0</td>\n",
              "      <td>0</td>\n",
              "      <td>3</td>\n",
              "      <td>7</td>\n",
              "      <td>1050</td>\n",
              "      <td>730</td>\n",
              "      <td>1960</td>\n",
              "      <td>0</td>\n",
              "      <td>98146</td>\n",
              "      <td>47.51230</td>\n",
              "      <td>-122.33700</td>\n",
              "      <td>1780</td>\n",
              "      <td>8113</td>\n",
              "    </tr>\n",
              "    <tr>\n",
              "      <th>9</th>\n",
              "      <td>3793500160</td>\n",
              "      <td>20150312T000000</td>\n",
              "      <td>323000.00000</td>\n",
              "      <td>3</td>\n",
              "      <td>2.50000</td>\n",
              "      <td>1890</td>\n",
              "      <td>6560</td>\n",
              "      <td>2.00000</td>\n",
              "      <td>0</td>\n",
              "      <td>0</td>\n",
              "      <td>3</td>\n",
              "      <td>7</td>\n",
              "      <td>1890</td>\n",
              "      <td>0</td>\n",
              "      <td>2003</td>\n",
              "      <td>0</td>\n",
              "      <td>98038</td>\n",
              "      <td>47.36840</td>\n",
              "      <td>-122.03100</td>\n",
              "      <td>2390</td>\n",
              "      <td>7570</td>\n",
              "    </tr>\n",
              "  </tbody>\n",
              "</table>\n",
              "</div>"
            ],
            "text/plain": [
              "           id             date  ...  sqft_living15  sqft_lot15\n",
              "0  7129300520  20141013T000000  ...           1340        5650\n",
              "1  6414100192  20141209T000000  ...           1690        7639\n",
              "2  5631500400  20150225T000000  ...           2720        8062\n",
              "3  2487200875  20141209T000000  ...           1360        5000\n",
              "4  1954400510  20150218T000000  ...           1800        7503\n",
              "5  7237550310  20140512T000000  ...           4760      101930\n",
              "6  1321400060  20140627T000000  ...           2238        6819\n",
              "7  2008000270  20150115T000000  ...           1650        9711\n",
              "8  2414600126  20150415T000000  ...           1780        8113\n",
              "9  3793500160  20150312T000000  ...           2390        7570\n",
              "\n",
              "[10 rows x 21 columns]"
            ]
          },
          "metadata": {
            "tags": []
          },
          "execution_count": 39
        }
      ]
    },
    {
      "cell_type": "code",
      "metadata": {
        "colab": {
          "base_uri": "https://localhost:8080/"
        },
        "id": "7XJylaTpV4Yb",
        "outputId": "07d2c1a8-a95a-48fc-85e4-b61597151945"
      },
      "source": [
        "Data.shape"
      ],
      "execution_count": null,
      "outputs": [
        {
          "output_type": "execute_result",
          "data": {
            "text/plain": [
              "(21613, 21)"
            ]
          },
          "metadata": {
            "tags": []
          },
          "execution_count": 40
        }
      ]
    },
    {
      "cell_type": "code",
      "metadata": {
        "id": "Q8PuGiWqWCPb"
      },
      "source": [
        "pd.set_option('display.float_format', lambda x: '%.5f' % x)"
      ],
      "execution_count": null,
      "outputs": []
    },
    {
      "cell_type": "code",
      "metadata": {
        "colab": {
          "base_uri": "https://localhost:8080/",
          "height": 821
        },
        "id": "jOSXQ6xfS-8X",
        "outputId": "ab925243-e6dc-4d07-a5c8-7439ce89aba3"
      },
      "source": [
        "Data.info()\n",
        "Data.describe()"
      ],
      "execution_count": null,
      "outputs": [
        {
          "output_type": "stream",
          "text": [
            "<class 'pandas.core.frame.DataFrame'>\n",
            "RangeIndex: 21613 entries, 0 to 21612\n",
            "Data columns (total 21 columns):\n",
            " #   Column         Non-Null Count  Dtype  \n",
            "---  ------         --------------  -----  \n",
            " 0   id             21613 non-null  int64  \n",
            " 1   date           21613 non-null  object \n",
            " 2   price          21613 non-null  float64\n",
            " 3   bedrooms       21613 non-null  int64  \n",
            " 4   bathrooms      21613 non-null  float64\n",
            " 5   sqft_living    21613 non-null  int64  \n",
            " 6   sqft_lot       21613 non-null  int64  \n",
            " 7   floors         21613 non-null  float64\n",
            " 8   waterfront     21613 non-null  int64  \n",
            " 9   view           21613 non-null  int64  \n",
            " 10  condition      21613 non-null  int64  \n",
            " 11  grade          21613 non-null  int64  \n",
            " 12  sqft_above     21613 non-null  int64  \n",
            " 13  sqft_basement  21613 non-null  int64  \n",
            " 14  yr_built       21613 non-null  int64  \n",
            " 15  yr_renovated   21613 non-null  int64  \n",
            " 16  zipcode        21613 non-null  int64  \n",
            " 17  lat            21613 non-null  float64\n",
            " 18  long           21613 non-null  float64\n",
            " 19  sqft_living15  21613 non-null  int64  \n",
            " 20  sqft_lot15     21613 non-null  int64  \n",
            "dtypes: float64(5), int64(15), object(1)\n",
            "memory usage: 3.5+ MB\n"
          ],
          "name": "stdout"
        },
        {
          "output_type": "execute_result",
          "data": {
            "text/html": [
              "<div>\n",
              "<style scoped>\n",
              "    .dataframe tbody tr th:only-of-type {\n",
              "        vertical-align: middle;\n",
              "    }\n",
              "\n",
              "    .dataframe tbody tr th {\n",
              "        vertical-align: top;\n",
              "    }\n",
              "\n",
              "    .dataframe thead th {\n",
              "        text-align: right;\n",
              "    }\n",
              "</style>\n",
              "<table border=\"1\" class=\"dataframe\">\n",
              "  <thead>\n",
              "    <tr style=\"text-align: right;\">\n",
              "      <th></th>\n",
              "      <th>id</th>\n",
              "      <th>price</th>\n",
              "      <th>bedrooms</th>\n",
              "      <th>bathrooms</th>\n",
              "      <th>sqft_living</th>\n",
              "      <th>sqft_lot</th>\n",
              "      <th>floors</th>\n",
              "      <th>waterfront</th>\n",
              "      <th>view</th>\n",
              "      <th>condition</th>\n",
              "      <th>grade</th>\n",
              "      <th>sqft_above</th>\n",
              "      <th>sqft_basement</th>\n",
              "      <th>yr_built</th>\n",
              "      <th>yr_renovated</th>\n",
              "      <th>zipcode</th>\n",
              "      <th>lat</th>\n",
              "      <th>long</th>\n",
              "      <th>sqft_living15</th>\n",
              "      <th>sqft_lot15</th>\n",
              "    </tr>\n",
              "  </thead>\n",
              "  <tbody>\n",
              "    <tr>\n",
              "      <th>count</th>\n",
              "      <td>21613.00000</td>\n",
              "      <td>21613.00000</td>\n",
              "      <td>21613.00000</td>\n",
              "      <td>21613.00000</td>\n",
              "      <td>21613.00000</td>\n",
              "      <td>21613.00000</td>\n",
              "      <td>21613.00000</td>\n",
              "      <td>21613.00000</td>\n",
              "      <td>21613.00000</td>\n",
              "      <td>21613.00000</td>\n",
              "      <td>21613.00000</td>\n",
              "      <td>21613.00000</td>\n",
              "      <td>21613.00000</td>\n",
              "      <td>21613.00000</td>\n",
              "      <td>21613.00000</td>\n",
              "      <td>21613.00000</td>\n",
              "      <td>21613.00000</td>\n",
              "      <td>21613.00000</td>\n",
              "      <td>21613.00000</td>\n",
              "      <td>21613.00000</td>\n",
              "    </tr>\n",
              "    <tr>\n",
              "      <th>mean</th>\n",
              "      <td>4580301520.86499</td>\n",
              "      <td>540088.14177</td>\n",
              "      <td>3.37084</td>\n",
              "      <td>2.11476</td>\n",
              "      <td>2079.89974</td>\n",
              "      <td>15106.96757</td>\n",
              "      <td>1.49431</td>\n",
              "      <td>0.00754</td>\n",
              "      <td>0.23430</td>\n",
              "      <td>3.40943</td>\n",
              "      <td>7.65687</td>\n",
              "      <td>1788.39069</td>\n",
              "      <td>291.50905</td>\n",
              "      <td>1971.00514</td>\n",
              "      <td>84.40226</td>\n",
              "      <td>98077.93980</td>\n",
              "      <td>47.56005</td>\n",
              "      <td>-122.21390</td>\n",
              "      <td>1986.55249</td>\n",
              "      <td>12768.45565</td>\n",
              "    </tr>\n",
              "    <tr>\n",
              "      <th>std</th>\n",
              "      <td>2876565571.31205</td>\n",
              "      <td>367127.19648</td>\n",
              "      <td>0.93006</td>\n",
              "      <td>0.77016</td>\n",
              "      <td>918.44090</td>\n",
              "      <td>41420.51152</td>\n",
              "      <td>0.53999</td>\n",
              "      <td>0.08652</td>\n",
              "      <td>0.76632</td>\n",
              "      <td>0.65074</td>\n",
              "      <td>1.17546</td>\n",
              "      <td>828.09098</td>\n",
              "      <td>442.57504</td>\n",
              "      <td>29.37341</td>\n",
              "      <td>401.67924</td>\n",
              "      <td>53.50503</td>\n",
              "      <td>0.13856</td>\n",
              "      <td>0.14083</td>\n",
              "      <td>685.39130</td>\n",
              "      <td>27304.17963</td>\n",
              "    </tr>\n",
              "    <tr>\n",
              "      <th>min</th>\n",
              "      <td>1000102.00000</td>\n",
              "      <td>75000.00000</td>\n",
              "      <td>0.00000</td>\n",
              "      <td>0.00000</td>\n",
              "      <td>290.00000</td>\n",
              "      <td>520.00000</td>\n",
              "      <td>1.00000</td>\n",
              "      <td>0.00000</td>\n",
              "      <td>0.00000</td>\n",
              "      <td>1.00000</td>\n",
              "      <td>1.00000</td>\n",
              "      <td>290.00000</td>\n",
              "      <td>0.00000</td>\n",
              "      <td>1900.00000</td>\n",
              "      <td>0.00000</td>\n",
              "      <td>98001.00000</td>\n",
              "      <td>47.15590</td>\n",
              "      <td>-122.51900</td>\n",
              "      <td>399.00000</td>\n",
              "      <td>651.00000</td>\n",
              "    </tr>\n",
              "    <tr>\n",
              "      <th>25%</th>\n",
              "      <td>2123049194.00000</td>\n",
              "      <td>321950.00000</td>\n",
              "      <td>3.00000</td>\n",
              "      <td>1.75000</td>\n",
              "      <td>1427.00000</td>\n",
              "      <td>5040.00000</td>\n",
              "      <td>1.00000</td>\n",
              "      <td>0.00000</td>\n",
              "      <td>0.00000</td>\n",
              "      <td>3.00000</td>\n",
              "      <td>7.00000</td>\n",
              "      <td>1190.00000</td>\n",
              "      <td>0.00000</td>\n",
              "      <td>1951.00000</td>\n",
              "      <td>0.00000</td>\n",
              "      <td>98033.00000</td>\n",
              "      <td>47.47100</td>\n",
              "      <td>-122.32800</td>\n",
              "      <td>1490.00000</td>\n",
              "      <td>5100.00000</td>\n",
              "    </tr>\n",
              "    <tr>\n",
              "      <th>50%</th>\n",
              "      <td>3904930410.00000</td>\n",
              "      <td>450000.00000</td>\n",
              "      <td>3.00000</td>\n",
              "      <td>2.25000</td>\n",
              "      <td>1910.00000</td>\n",
              "      <td>7618.00000</td>\n",
              "      <td>1.50000</td>\n",
              "      <td>0.00000</td>\n",
              "      <td>0.00000</td>\n",
              "      <td>3.00000</td>\n",
              "      <td>7.00000</td>\n",
              "      <td>1560.00000</td>\n",
              "      <td>0.00000</td>\n",
              "      <td>1975.00000</td>\n",
              "      <td>0.00000</td>\n",
              "      <td>98065.00000</td>\n",
              "      <td>47.57180</td>\n",
              "      <td>-122.23000</td>\n",
              "      <td>1840.00000</td>\n",
              "      <td>7620.00000</td>\n",
              "    </tr>\n",
              "    <tr>\n",
              "      <th>75%</th>\n",
              "      <td>7308900445.00000</td>\n",
              "      <td>645000.00000</td>\n",
              "      <td>4.00000</td>\n",
              "      <td>2.50000</td>\n",
              "      <td>2550.00000</td>\n",
              "      <td>10688.00000</td>\n",
              "      <td>2.00000</td>\n",
              "      <td>0.00000</td>\n",
              "      <td>0.00000</td>\n",
              "      <td>4.00000</td>\n",
              "      <td>8.00000</td>\n",
              "      <td>2210.00000</td>\n",
              "      <td>560.00000</td>\n",
              "      <td>1997.00000</td>\n",
              "      <td>0.00000</td>\n",
              "      <td>98118.00000</td>\n",
              "      <td>47.67800</td>\n",
              "      <td>-122.12500</td>\n",
              "      <td>2360.00000</td>\n",
              "      <td>10083.00000</td>\n",
              "    </tr>\n",
              "    <tr>\n",
              "      <th>max</th>\n",
              "      <td>9900000190.00000</td>\n",
              "      <td>7700000.00000</td>\n",
              "      <td>33.00000</td>\n",
              "      <td>8.00000</td>\n",
              "      <td>13540.00000</td>\n",
              "      <td>1651359.00000</td>\n",
              "      <td>3.50000</td>\n",
              "      <td>1.00000</td>\n",
              "      <td>4.00000</td>\n",
              "      <td>5.00000</td>\n",
              "      <td>13.00000</td>\n",
              "      <td>9410.00000</td>\n",
              "      <td>4820.00000</td>\n",
              "      <td>2015.00000</td>\n",
              "      <td>2015.00000</td>\n",
              "      <td>98199.00000</td>\n",
              "      <td>47.77760</td>\n",
              "      <td>-121.31500</td>\n",
              "      <td>6210.00000</td>\n",
              "      <td>871200.00000</td>\n",
              "    </tr>\n",
              "  </tbody>\n",
              "</table>\n",
              "</div>"
            ],
            "text/plain": [
              "                    id         price  ...  sqft_living15   sqft_lot15\n",
              "count      21613.00000   21613.00000  ...    21613.00000  21613.00000\n",
              "mean  4580301520.86499  540088.14177  ...     1986.55249  12768.45565\n",
              "std   2876565571.31205  367127.19648  ...      685.39130  27304.17963\n",
              "min      1000102.00000   75000.00000  ...      399.00000    651.00000\n",
              "25%   2123049194.00000  321950.00000  ...     1490.00000   5100.00000\n",
              "50%   3904930410.00000  450000.00000  ...     1840.00000   7620.00000\n",
              "75%   7308900445.00000  645000.00000  ...     2360.00000  10083.00000\n",
              "max   9900000190.00000 7700000.00000  ...     6210.00000 871200.00000\n",
              "\n",
              "[8 rows x 20 columns]"
            ]
          },
          "metadata": {
            "tags": []
          },
          "execution_count": 42
        }
      ]
    },
    {
      "cell_type": "code",
      "metadata": {
        "id": "86PxIdLVTI2r"
      },
      "source": [
        "Data = Data.drop('id',axis=1)\n",
        "Data = Data.drop('zipcode',axis=1)"
      ],
      "execution_count": null,
      "outputs": []
    },
    {
      "cell_type": "code",
      "metadata": {
        "colab": {
          "base_uri": "https://localhost:8080/",
          "height": 425
        },
        "id": "HWIrBfOkWlVt",
        "outputId": "0b7b7003-d348-4516-ff65-40aabd545168"
      },
      "source": [
        "fig = plt.figure(figsize=(15,5))\n",
        "sns.distplot(Data['price'])\n",
        "plt.tight_layout()"
      ],
      "execution_count": null,
      "outputs": [
        {
          "output_type": "stream",
          "text": [
            "/usr/local/lib/python3.7/dist-packages/seaborn/distributions.py:2557: FutureWarning: `distplot` is a deprecated function and will be removed in a future version. Please adapt your code to use either `displot` (a figure-level function with similar flexibility) or `histplot` (an axes-level function for histograms).\n",
            "  warnings.warn(msg, FutureWarning)\n"
          ],
          "name": "stderr"
        },
        {
          "output_type": "display_data",
          "data": {
            "image/png": "[encoded data removed]",
            "text/plain": [
              "<Figure size 1080x360 with 1 Axes>"
            ]
          },
          "metadata": {
            "tags": [],
            "needs_background": "light"
          }
        }
      ]
    },
    {
      "cell_type": "code",
      "metadata": {
        "colab": {
          "base_uri": "https://localhost:8080/",
          "height": 677
        },
        "id": "Q3qoJ9znXWNY",
        "outputId": "365ba729-4c03-4e80-b933-12c5092e4310"
      },
      "source": [
        "fig = plt.figure(figsize=(15,7),constrained_layout=True)\n",
        "fig.add_subplot(2,2,1)\n",
        "sns.countplot(Data['bedrooms'], palette = 'Greens_d')\n",
        "fig.add_subplot(2,2,2)\n",
        "sns.countplot(Data['floors'])\n",
        "fig.add_subplot(2,2,3)\n",
        "sns.countplot(Data['bathrooms'])\n",
        "plt.tight_layout()"
      ],
      "execution_count": null,
      "outputs": [
        {
          "output_type": "stream",
          "text": [
            "/usr/local/lib/python3.7/dist-packages/seaborn/_decorators.py:43: FutureWarning: Pass the following variable as a keyword arg: x. From version 0.12, the only valid positional argument will be `data`, and passing other arguments without an explicit keyword will result in an error or misinterpretation.\n",
            "  FutureWarning\n",
            "/usr/local/lib/python3.7/dist-packages/seaborn/_decorators.py:43: FutureWarning: Pass the following variable as a keyword arg: x. From version 0.12, the only valid positional argument will be `data`, and passing other arguments without an explicit keyword will result in an error or misinterpretation.\n",
            "  FutureWarning\n",
            "/usr/local/lib/python3.7/dist-packages/seaborn/_decorators.py:43: FutureWarning: Pass the following variable as a keyword arg: x. From version 0.12, the only valid positional argument will be `data`, and passing other arguments without an explicit keyword will result in an error or misinterpretation.\n",
            "  FutureWarning\n",
            "/usr/local/lib/python3.7/dist-packages/ipykernel_launcher.py:8: UserWarning: This figure was using constrained_layout==True, but that is incompatible with subplots_adjust and or tight_layout: setting constrained_layout==False. \n",
            "  \n"
          ],
          "name": "stderr"
        },
        {
          "output_type": "display_data",
          "data": {
            "image/png": "[encoded data removed]",
            "text/plain": [
              "<Figure size 1080x504 with 3 Axes>"
            ]
          },
          "metadata": {
            "tags": [],
            "needs_background": "light"
          }
        }
      ]
    },
    {
      "cell_type": "code",
      "metadata": {
        "colab": {
          "base_uri": "https://localhost:8080/",
          "height": 490
        },
        "id": "lz_Jw_PPYR75",
        "outputId": "6b2deb07-c796-4d51-f8ea-bf4f43624a88"
      },
      "source": [
        "fig = plt.figure(figsize=(16,10))\n",
        "fig.add_subplot(2,2,1)\n",
        "plt.title(\"Price vs Latitude\")\n",
        "sns.scatterplot(Data['price'], Data['lat'])\n",
        "fig.add_subplot(2,2,2)\n",
        "plt.title(\"Price vs Longitude\")\n",
        "sns.scatterplot(Data['price'],Data['long'])\n",
        "plt.tight_layout()"
      ],
      "execution_count": null,
      "outputs": [
        {
          "output_type": "stream",
          "text": [
            "/usr/local/lib/python3.7/dist-packages/seaborn/_decorators.py:43: FutureWarning: Pass the following variables as keyword args: x, y. From version 0.12, the only valid positional argument will be `data`, and passing other arguments without an explicit keyword will result in an error or misinterpretation.\n",
            "  FutureWarning\n",
            "/usr/local/lib/python3.7/dist-packages/seaborn/_decorators.py:43: FutureWarning: Pass the following variables as keyword args: x, y. From version 0.12, the only valid positional argument will be `data`, and passing other arguments without an explicit keyword will result in an error or misinterpretation.\n",
            "  FutureWarning\n"
          ],
          "name": "stderr"
        },
        {
          "output_type": "display_data",
          "data": {
            "image/png": "[encoded data removed]",
            "text/plain": [
              "<Figure size 1152x720 with 2 Axes>"
            ]
          },
          "metadata": {
            "tags": [],
            "needs_background": "light"
          }
        }
      ]
    },
    {
      "cell_type": "code",
      "metadata": {
        "colab": {
          "base_uri": "https://localhost:8080/",
          "height": 482
        },
        "id": "SVM7gJceYx7a",
        "outputId": "0d0270fe-425a-4c22-e0ea-d9c937665a5c"
      },
      "source": [
        "fig = plt.figure(figsize=(16,10))\n",
        "fig.add_subplot(2,2,1)\n",
        "sns.scatterplot(Data['price'], Data['sqft_living'])\n",
        "fig.add_subplot(2,2,2)\n",
        "sns.scatterplot(Data['price'],Data['sqft_basement'])\n",
        "plt.tight_layout()"
      ],
      "execution_count": null,
      "outputs": [
        {
          "output_type": "stream",
          "text": [
            "/usr/local/lib/python3.7/dist-packages/seaborn/_decorators.py:43: FutureWarning: Pass the following variables as keyword args: x, y. From version 0.12, the only valid positional argument will be `data`, and passing other arguments without an explicit keyword will result in an error or misinterpretation.\n",
            "  FutureWarning\n",
            "/usr/local/lib/python3.7/dist-packages/seaborn/_decorators.py:43: FutureWarning: Pass the following variables as keyword args: x, y. From version 0.12, the only valid positional argument will be `data`, and passing other arguments without an explicit keyword will result in an error or misinterpretation.\n",
            "  FutureWarning\n"
          ],
          "name": "stderr"
        },
        {
          "output_type": "display_data",
          "data": {
            "image/png": "[encoded data removed]",
            "text/plain": [
              "<Figure size 1152x720 with 2 Axes>"
            ]
          },
          "metadata": {
            "tags": [],
            "needs_background": "light"
          }
        }
      ]
    },
    {
      "cell_type": "code",
      "metadata": {
        "colab": {
          "base_uri": "https://localhost:8080/",
          "height": 309
        },
        "id": "oL1XhdmcZIz4",
        "outputId": "a1d256f5-2a59-40b3-d31d-9b4ec64a7862"
      },
      "source": [
        "Data['date'] = pd.to_datetime(Data['date'])\n",
        "Data['month'] = Data['date'].apply(lambda date:date.month)\n",
        "Data['year'] = Data['date'].apply(lambda date:date.year)\n",
        "Data.head(5)"
      ],
      "execution_count": null,
      "outputs": [
        {
          "output_type": "execute_result",
          "data": {
            "text/html": [
              "<div>\n",
              "<style scoped>\n",
              "    .dataframe tbody tr th:only-of-type {\n",
              "        vertical-align: middle;\n",
              "    }\n",
              "\n",
              "    .dataframe tbody tr th {\n",
              "        vertical-align: top;\n",
              "    }\n",
              "\n",
              "    .dataframe thead th {\n",
              "        text-align: right;\n",
              "    }\n",
              "</style>\n",
              "<table border=\"1\" class=\"dataframe\">\n",
              "  <thead>\n",
              "    <tr style=\"text-align: right;\">\n",
              "      <th></th>\n",
              "      <th>date</th>\n",
              "      <th>price</th>\n",
              "      <th>bedrooms</th>\n",
              "      <th>bathrooms</th>\n",
              "      <th>sqft_living</th>\n",
              "      <th>sqft_lot</th>\n",
              "      <th>floors</th>\n",
              "      <th>waterfront</th>\n",
              "      <th>view</th>\n",
              "      <th>condition</th>\n",
              "      <th>grade</th>\n",
              "      <th>sqft_above</th>\n",
              "      <th>sqft_basement</th>\n",
              "      <th>yr_built</th>\n",
              "      <th>yr_renovated</th>\n",
              "      <th>lat</th>\n",
              "      <th>long</th>\n",
              "      <th>sqft_living15</th>\n",
              "      <th>sqft_lot15</th>\n",
              "      <th>month</th>\n",
              "      <th>year</th>\n",
              "    </tr>\n",
              "  </thead>\n",
              "  <tbody>\n",
              "    <tr>\n",
              "      <th>0</th>\n",
              "      <td>2014-10-13</td>\n",
              "      <td>221900.00000</td>\n",
              "      <td>3</td>\n",
              "      <td>1.00000</td>\n",
              "      <td>1180</td>\n",
              "      <td>5650</td>\n",
              "      <td>1.00000</td>\n",
              "      <td>0</td>\n",
              "      <td>0</td>\n",
              "      <td>3</td>\n",
              "      <td>7</td>\n",
              "      <td>1180</td>\n",
              "      <td>0</td>\n",
              "      <td>1955</td>\n",
              "      <td>0</td>\n",
              "      <td>47.51120</td>\n",
              "      <td>-122.25700</td>\n",
              "      <td>1340</td>\n",
              "      <td>5650</td>\n",
              "      <td>10</td>\n",
              "      <td>2014</td>\n",
              "    </tr>\n",
              "    <tr>\n",
              "      <th>1</th>\n",
              "      <td>2014-12-09</td>\n",
              "      <td>538000.00000</td>\n",
              "      <td>3</td>\n",
              "      <td>2.25000</td>\n",
              "      <td>2570</td>\n",
              "      <td>7242</td>\n",
              "      <td>2.00000</td>\n",
              "      <td>0</td>\n",
              "      <td>0</td>\n",
              "      <td>3</td>\n",
              "      <td>7</td>\n",
              "      <td>2170</td>\n",
              "      <td>400</td>\n",
              "      <td>1951</td>\n",
              "      <td>1991</td>\n",
              "      <td>47.72100</td>\n",
              "      <td>-122.31900</td>\n",
              "      <td>1690</td>\n",
              "      <td>7639</td>\n",
              "      <td>12</td>\n",
              "      <td>2014</td>\n",
              "    </tr>\n",
              "    <tr>\n",
              "      <th>2</th>\n",
              "      <td>2015-02-25</td>\n",
              "      <td>180000.00000</td>\n",
              "      <td>2</td>\n",
              "      <td>1.00000</td>\n",
              "      <td>770</td>\n",
              "      <td>10000</td>\n",
              "      <td>1.00000</td>\n",
              "      <td>0</td>\n",
              "      <td>0</td>\n",
              "      <td>3</td>\n",
              "      <td>6</td>\n",
              "      <td>770</td>\n",
              "      <td>0</td>\n",
              "      <td>1933</td>\n",
              "      <td>0</td>\n",
              "      <td>47.73790</td>\n",
              "      <td>-122.23300</td>\n",
              "      <td>2720</td>\n",
              "      <td>8062</td>\n",
              "      <td>2</td>\n",
              "      <td>2015</td>\n",
              "    </tr>\n",
              "    <tr>\n",
              "      <th>3</th>\n",
              "      <td>2014-12-09</td>\n",
              "      <td>604000.00000</td>\n",
              "      <td>4</td>\n",
              "      <td>3.00000</td>\n",
              "      <td>1960</td>\n",
              "      <td>5000</td>\n",
              "      <td>1.00000</td>\n",
              "      <td>0</td>\n",
              "      <td>0</td>\n",
              "      <td>5</td>\n",
              "      <td>7</td>\n",
              "      <td>1050</td>\n",
              "      <td>910</td>\n",
              "      <td>1965</td>\n",
              "      <td>0</td>\n",
              "      <td>47.52080</td>\n",
              "      <td>-122.39300</td>\n",
              "      <td>1360</td>\n",
              "      <td>5000</td>\n",
              "      <td>12</td>\n",
              "      <td>2014</td>\n",
              "    </tr>\n",
              "    <tr>\n",
              "      <th>4</th>\n",
              "      <td>2015-02-18</td>\n",
              "      <td>510000.00000</td>\n",
              "      <td>3</td>\n",
              "      <td>2.00000</td>\n",
              "      <td>1680</td>\n",
              "      <td>8080</td>\n",
              "      <td>1.00000</td>\n",
              "      <td>0</td>\n",
              "      <td>0</td>\n",
              "      <td>3</td>\n",
              "      <td>8</td>\n",
              "      <td>1680</td>\n",
              "      <td>0</td>\n",
              "      <td>1987</td>\n",
              "      <td>0</td>\n",
              "      <td>47.61680</td>\n",
              "      <td>-122.04500</td>\n",
              "      <td>1800</td>\n",
              "      <td>7503</td>\n",
              "      <td>2</td>\n",
              "      <td>2015</td>\n",
              "    </tr>\n",
              "  </tbody>\n",
              "</table>\n",
              "</div>"
            ],
            "text/plain": [
              "        date        price  bedrooms  ...  sqft_lot15  month  year\n",
              "0 2014-10-13 221900.00000         3  ...        5650     10  2014\n",
              "1 2014-12-09 538000.00000         3  ...        7639     12  2014\n",
              "2 2015-02-25 180000.00000         2  ...        8062      2  2015\n",
              "3 2014-12-09 604000.00000         4  ...        5000     12  2014\n",
              "4 2015-02-18 510000.00000         3  ...        7503      2  2015\n",
              "\n",
              "[5 rows x 21 columns]"
            ]
          },
          "metadata": {
            "tags": []
          },
          "execution_count": 48
        }
      ]
    },
    {
      "cell_type": "code",
      "metadata": {
        "colab": {
          "base_uri": "https://localhost:8080/",
          "height": 369
        },
        "id": "4ls7TftIZnqs",
        "outputId": "cf94179a-a7ae-4d6f-8fb3-03a08bfbfeaa"
      },
      "source": [
        "fig = plt.figure(figsize=(16,5))\n",
        "fig.add_subplot(1,2,1)\n",
        "Data.groupby('month').mean()['price'].plot()\n",
        "fig.add_subplot(1,2,2)\n",
        "Data.groupby('year').mean()['price'].plot()\n",
        "plt.tight_layout()"
      ],
      "execution_count": null,
      "outputs": [
        {
          "output_type": "display_data",
          "data": {
            "image/png": "[encoded data removed]",
            "text/plain": [
              "<Figure size 1152x360 with 2 Axes>"
            ]
          },
          "metadata": {
            "tags": [],
            "needs_background": "light"
          }
        }
      ]
    },
    {
      "cell_type": "code",
      "metadata": {
        "id": "xZDvuIbdZ59x"
      },
      "source": [
        "Data = Data.drop('date',axis=1)"
      ],
      "execution_count": null,
      "outputs": []
    },
    {
      "cell_type": "code",
      "metadata": {
        "id": "Lct-YJEQZ_Pl"
      },
      "source": [
        "X = Data.drop('price',axis =1).values\n",
        "y = Data['price'].values"
      ],
      "execution_count": null,
      "outputs": []
    },
    {
      "cell_type": "code",
      "metadata": {
        "id": "dMCbP6gHaYA5"
      },
      "source": [
        "from sklearn.model_selection import train_test_split\n",
        "X_train, X_test, y_train, y_test = train_test_split(X, y, test_size=0.33, random_state=101)"
      ],
      "execution_count": null,
      "outputs": []
    },
    {
      "cell_type": "code",
      "metadata": {
        "id": "QjzNruf0aacY"
      },
      "source": [
        "from sklearn.preprocessing import StandardScaler\n",
        "s_scaler = StandardScaler()\n",
        "X_train = s_scaler.fit_transform(X_train.astype(np.float))\n",
        "X_test = s_scaler.transform(X_test.astype(np.float))"
      ],
      "execution_count": null,
      "outputs": []
    },
    {
      "cell_type": "code",
      "metadata": {
        "colab": {
          "base_uri": "https://localhost:8080/"
        },
        "id": "HwQOEQKGahMM",
        "outputId": "da021a49-4204-4313-a772-71a83e7488ec"
      },
      "source": [
        "from sklearn.linear_model import LinearRegression\n",
        "regressor = LinearRegression()  \n",
        "regressor.fit(X_train, y_train)\n"
      ],
      "execution_count": null,
      "outputs": [
        {
          "output_type": "execute_result",
          "data": {
            "text/plain": [
              "LinearRegression(copy_X=True, fit_intercept=True, n_jobs=None, normalize=False)"
            ]
          },
          "metadata": {
            "tags": []
          },
          "execution_count": 54
        }
      ]
    },
    {
      "cell_type": "code",
      "metadata": {
        "colab": {
          "base_uri": "https://localhost:8080/"
        },
        "id": "HIAlSkCQmKQN",
        "outputId": "6b97bad3-94e8-4d95-8a46-0f191278d913"
      },
      "source": [
        "y_test"
      ],
      "execution_count": null,
      "outputs": [
        {
          "output_type": "execute_result",
          "data": {
            "text/plain": [
              "array([349950., 450000., 635000., ..., 305000., 480000., 424305.])"
            ]
          },
          "metadata": {
            "tags": []
          },
          "execution_count": 55
        }
      ]
    },
    {
      "cell_type": "code",
      "metadata": {
        "colab": {
          "base_uri": "https://localhost:8080/"
        },
        "id": "J1DngROKaut3",
        "outputId": "9acbad5a-4468-4be9-9019-9c4d2bf3467c"
      },
      "source": [
        "#evaluate the model (intercept and slope)\n",
        "regressor.intercept_\n",
        "regressor.coef_"
      ],
      "execution_count": null,
      "outputs": [
        {
          "output_type": "execute_result",
          "data": {
            "text/plain": [
              "array([-32174.2645862 ,  28314.47160234,  80960.8365489 ,   6428.24177905,\n",
              "         3413.70406639,  49942.35152741,  36835.82051685,  21903.68879982,\n",
              "       116003.40529456,  76073.5117404 ,  25375.83805414, -72994.52529983,\n",
              "         7676.57141888,  78057.84710672, -17254.48220907,  18909.70160034,\n",
              "       -10301.37920458,   4182.48580611,  17081.43533197])"
            ]
          },
          "metadata": {
            "tags": []
          },
          "execution_count": 56
        }
      ]
    },
    {
      "cell_type": "code",
      "metadata": {
        "colab": {
          "base_uri": "https://localhost:8080/",
          "height": 359
        },
        "id": "KuOfmW36bDDs",
        "outputId": "132f39fd-246e-400e-d884-14eb01727f38"
      },
      "source": [
        "y_predd = regressor.predict(X_test)\n",
        "df = pd.DataFrame({'Actual': y_test, 'Predicted': y_predd})\n",
        "df1 = df.head(10)\n",
        "df1"
      ],
      "execution_count": null,
      "outputs": [
        {
          "output_type": "execute_result",
          "data": {
            "text/html": [
              "<div>\n",
              "<style scoped>\n",
              "    .dataframe tbody tr th:only-of-type {\n",
              "        vertical-align: middle;\n",
              "    }\n",
              "\n",
              "    .dataframe tbody tr th {\n",
              "        vertical-align: top;\n",
              "    }\n",
              "\n",
              "    .dataframe thead th {\n",
              "        text-align: right;\n",
              "    }\n",
              "</style>\n",
              "<table border=\"1\" class=\"dataframe\">\n",
              "  <thead>\n",
              "    <tr style=\"text-align: right;\">\n",
              "      <th></th>\n",
              "      <th>Actual</th>\n",
              "      <th>Predicted</th>\n",
              "    </tr>\n",
              "  </thead>\n",
              "  <tbody>\n",
              "    <tr>\n",
              "      <th>0</th>\n",
              "      <td>349950.00000</td>\n",
              "      <td>530667.78412</td>\n",
              "    </tr>\n",
              "    <tr>\n",
              "      <th>1</th>\n",
              "      <td>450000.00000</td>\n",
              "      <td>667025.07695</td>\n",
              "    </tr>\n",
              "    <tr>\n",
              "      <th>2</th>\n",
              "      <td>635000.00000</td>\n",
              "      <td>553195.04339</td>\n",
              "    </tr>\n",
              "    <tr>\n",
              "      <th>3</th>\n",
              "      <td>355500.00000</td>\n",
              "      <td>346657.16610</td>\n",
              "    </tr>\n",
              "    <tr>\n",
              "      <th>4</th>\n",
              "      <td>246950.00000</td>\n",
              "      <td>61378.18602</td>\n",
              "    </tr>\n",
              "    <tr>\n",
              "      <th>5</th>\n",
              "      <td>406550.00000</td>\n",
              "      <td>481162.80929</td>\n",
              "    </tr>\n",
              "    <tr>\n",
              "      <th>6</th>\n",
              "      <td>350000.00000</td>\n",
              "      <td>312819.78849</td>\n",
              "    </tr>\n",
              "    <tr>\n",
              "      <th>7</th>\n",
              "      <td>226500.00000</td>\n",
              "      <td>273833.02768</td>\n",
              "    </tr>\n",
              "    <tr>\n",
              "      <th>8</th>\n",
              "      <td>265000.00000</td>\n",
              "      <td>280571.64929</td>\n",
              "    </tr>\n",
              "    <tr>\n",
              "      <th>9</th>\n",
              "      <td>656000.00000</td>\n",
              "      <td>532966.84444</td>\n",
              "    </tr>\n",
              "  </tbody>\n",
              "</table>\n",
              "</div>"
            ],
            "text/plain": [
              "        Actual    Predicted\n",
              "0 349950.00000 530667.78412\n",
              "1 450000.00000 667025.07695\n",
              "2 635000.00000 553195.04339\n",
              "3 355500.00000 346657.16610\n",
              "4 246950.00000  61378.18602\n",
              "5 406550.00000 481162.80929\n",
              "6 350000.00000 312819.78849\n",
              "7 226500.00000 273833.02768\n",
              "8 265000.00000 280571.64929\n",
              "9 656000.00000 532966.84444"
            ]
          },
          "metadata": {
            "tags": []
          },
          "execution_count": 57
        }
      ]
    },
    {
      "cell_type": "code",
      "metadata": {
        "colab": {
          "base_uri": "https://localhost:8080/"
        },
        "id": "iCUfBBl1iFfw",
        "outputId": "06c516a4-d31a-44b6-b3c6-06cc4d79c271"
      },
      "source": [
        "from sklearn import metrics\n",
        "\n",
        "print('Mean Absolute Error: {:.2f}'.format(metrics.mean_absolute_error(y_test, y_predd))) \n",
        "print('Mean Squared Error:{:.2f}'.format(metrics.mean_squared_error(y_test, y_predd)))  \n",
        "print('Root Mean Squared Error:{:.2f}'.format(np.sqrt(metrics.mean_squared_error(y_test, y_predd))))\n",
        "print('Variance score is: {:.2f}'.format(metrics.explained_variance_score(y_test,y_predd)))"
      ],
      "execution_count": null,
      "outputs": [
        {
          "output_type": "stream",
          "text": [
            "Mean Absolute Error: 125933.74\n",
            "Mean Squared Error:40601153229.62\n",
            "Root Mean Squared Error:201497.28\n",
            "Variance score is: 0.70\n"
          ],
          "name": "stdout"
        }
      ]
    },
    {
      "cell_type": "code",
      "metadata": {
        "colab": {
          "base_uri": "https://localhost:8080/"
        },
        "id": "zeH2rEaQbdAI",
        "outputId": "f2da8229-6e30-447d-d434-0fbe157cd3e7"
      },
      "source": [
        "print('Linear Regression Model:')\n",
        "print(\"Train Score {:.2f}\".format(regressor.score(X_train,y_train)))\n",
        "print(\"Test Score {:.2f}\".format(regressor.score(X_test, y_test)))\n"
      ],
      "execution_count": null,
      "outputs": [
        {
          "output_type": "stream",
          "text": [
            "Linear Regression Model:\n",
            "Train Score 0.69\n",
            "Test Score 0.70\n"
          ],
          "name": "stdout"
        }
      ]
    },
    {
      "cell_type": "code",
      "metadata": {
        "id": "uvUYnItMcFHT"
      },
      "source": [
        "from tensorflow.keras.models import Sequential\n",
        "from tensorflow.keras.layers import Dense, Activation\n",
        "from tensorflow.keras.optimizers import Adam"
      ],
      "execution_count": null,
      "outputs": []
    },
    {
      "cell_type": "code",
      "metadata": {
        "id": "kbfgK5Tsdl92"
      },
      "source": [
        "model = Sequential()\n",
        "\n",
        "model.add(Dense(19,activation='relu'))\n",
        "model.add(Dense(19,activation='relu'))\n",
        "model.add(Dense(19,activation='relu'))\n",
        "model.add(Dense(19,activation='relu'))\n",
        "model.add(Dense(1))\n",
        "\n",
        "model.compile(optimizer='adam',loss='mse')"
      ],
      "execution_count": null,
      "outputs": []
    },
    {
      "cell_type": "code",
      "metadata": {
        "colab": {
          "base_uri": "https://localhost:8080/"
        },
        "id": "UmG_gryldsTX",
        "outputId": "9961462d-18b0-4306-a955-d25de62864d0"
      },
      "source": [
        "model.fit(x=X_train,y=y_train,\n",
        "validation_data=(X_test,y_test),\n",
        "batch_size=128,epochs=400)"
      ],
      "execution_count": null,
      "outputs": [
        {
          "output_type": "stream",
          "text": [
            "Epoch 1/400\n",
            "114/114 [==============================] - 1s 3ms/step - loss: 425264644096.0000 - val_loss: 428794347520.0000\n",
            "Epoch 2/400\n",
            "114/114 [==============================] - 0s 2ms/step - loss: 423966408704.0000 - val_loss: 423979941888.0000\n",
            "Epoch 3/400\n",
            "114/114 [==============================] - 0s 2ms/step - loss: 404412497920.0000 - val_loss: 376849956864.0000\n",
            "Epoch 4/400\n",
            "114/114 [==============================] - 0s 3ms/step - loss: 309074460672.0000 - val_loss: 222455201792.0000\n",
            "Epoch 5/400\n",
            "114/114 [==============================] - 0s 2ms/step - loss: 147164119040.0000 - val_loss: 87988854784.0000\n",
            "Epoch 6/400\n",
            "114/114 [==============================] - 0s 3ms/step - loss: 79471476736.0000 - val_loss: 68378890240.0000\n",
            "Epoch 7/400\n",
            "114/114 [==============================] - 0s 2ms/step - loss: 69311430656.0000 - val_loss: 62264860672.0000\n",
            "Epoch 8/400\n",
            "114/114 [==============================] - 0s 2ms/step - loss: 63858606080.0000 - val_loss: 57974300672.0000\n",
            "Epoch 9/400\n",
            "114/114 [==============================] - 0s 2ms/step - loss: 59591888896.0000 - val_loss: 54450991104.0000\n",
            "Epoch 10/400\n",
            "114/114 [==============================] - 0s 2ms/step - loss: 56113315840.0000 - val_loss: 51530452992.0000\n",
            "Epoch 11/400\n",
            "114/114 [==============================] - 0s 2ms/step - loss: 53169246208.0000 - val_loss: 48945754112.0000\n",
            "Epoch 12/400\n",
            "114/114 [==============================] - 0s 2ms/step - loss: 50607943680.0000 - val_loss: 46655115264.0000\n",
            "Epoch 13/400\n",
            "114/114 [==============================] - 0s 2ms/step - loss: 48425377792.0000 - val_loss: 44734623744.0000\n",
            "Epoch 14/400\n",
            "114/114 [==============================] - 0s 2ms/step - loss: 46520074240.0000 - val_loss: 42963668992.0000\n",
            "Epoch 15/400\n",
            "114/114 [==============================] - 0s 2ms/step - loss: 44923138048.0000 - val_loss: 41524043776.0000\n",
            "Epoch 16/400\n",
            "114/114 [==============================] - 0s 2ms/step - loss: 43522494464.0000 - val_loss: 40323878912.0000\n",
            "Epoch 17/400\n",
            "114/114 [==============================] - 0s 2ms/step - loss: 42311544832.0000 - val_loss: 39324463104.0000\n",
            "Epoch 18/400\n",
            "114/114 [==============================] - 0s 3ms/step - loss: 41301450752.0000 - val_loss: 38384930816.0000\n",
            "Epoch 19/400\n",
            "114/114 [==============================] - 0s 2ms/step - loss: 40460795904.0000 - val_loss: 37659213824.0000\n",
            "Epoch 20/400\n",
            "114/114 [==============================] - 0s 2ms/step - loss: 39724146688.0000 - val_loss: 37051064320.0000\n",
            "Epoch 21/400\n",
            "114/114 [==============================] - 0s 2ms/step - loss: 39045697536.0000 - val_loss: 36737220608.0000\n",
            "Epoch 22/400\n",
            "114/114 [==============================] - 0s 2ms/step - loss: 38585249792.0000 - val_loss: 36083154944.0000\n",
            "Epoch 23/400\n",
            "114/114 [==============================] - 0s 2ms/step - loss: 38056833024.0000 - val_loss: 35649789952.0000\n",
            "Epoch 24/400\n",
            "114/114 [==============================] - 0s 2ms/step - loss: 37682933760.0000 - val_loss: 35300548608.0000\n",
            "Epoch 25/400\n",
            "114/114 [==============================] - 0s 2ms/step - loss: 37258690560.0000 - val_loss: 35079987200.0000\n",
            "Epoch 26/400\n",
            "114/114 [==============================] - 0s 2ms/step - loss: 36925054976.0000 - val_loss: 34712174592.0000\n",
            "Epoch 27/400\n",
            "114/114 [==============================] - 0s 3ms/step - loss: 36635955200.0000 - val_loss: 34448945152.0000\n",
            "Epoch 28/400\n",
            "114/114 [==============================] - 0s 2ms/step - loss: 36362829824.0000 - val_loss: 34224797696.0000\n",
            "Epoch 29/400\n",
            "114/114 [==============================] - 0s 3ms/step - loss: 36071194624.0000 - val_loss: 34050498560.0000\n",
            "Epoch 30/400\n",
            "114/114 [==============================] - 0s 2ms/step - loss: 35849261056.0000 - val_loss: 33868933120.0000\n",
            "Epoch 31/400\n",
            "114/114 [==============================] - 0s 2ms/step - loss: 35562594304.0000 - val_loss: 33790277632.0000\n",
            "Epoch 32/400\n",
            "114/114 [==============================] - 0s 2ms/step - loss: 35453108224.0000 - val_loss: 33490993152.0000\n",
            "Epoch 33/400\n",
            "114/114 [==============================] - 0s 3ms/step - loss: 35207798784.0000 - val_loss: 33331118080.0000\n",
            "Epoch 34/400\n",
            "114/114 [==============================] - 0s 2ms/step - loss: 35079270400.0000 - val_loss: 33213403136.0000\n",
            "Epoch 35/400\n",
            "114/114 [==============================] - 0s 2ms/step - loss: 34807644160.0000 - val_loss: 33144326144.0000\n",
            "Epoch 36/400\n",
            "114/114 [==============================] - 0s 2ms/step - loss: 34707460096.0000 - val_loss: 32985571328.0000\n",
            "Epoch 37/400\n",
            "114/114 [==============================] - 0s 2ms/step - loss: 34593312768.0000 - val_loss: 32876701696.0000\n",
            "Epoch 38/400\n",
            "114/114 [==============================] - 0s 2ms/step - loss: 34523750400.0000 - val_loss: 32772599808.0000\n",
            "Epoch 39/400\n",
            "114/114 [==============================] - 0s 2ms/step - loss: 34301435904.0000 - val_loss: 32727511040.0000\n",
            "Epoch 40/400\n",
            "114/114 [==============================] - 0s 2ms/step - loss: 34226325504.0000 - val_loss: 32673615872.0000\n",
            "Epoch 41/400\n",
            "114/114 [==============================] - 0s 2ms/step - loss: 34198018048.0000 - val_loss: 32518858752.0000\n",
            "Epoch 42/400\n",
            "114/114 [==============================] - 0s 2ms/step - loss: 33975304192.0000 - val_loss: 32454148096.0000\n",
            "Epoch 43/400\n",
            "114/114 [==============================] - 0s 2ms/step - loss: 33879261184.0000 - val_loss: 32418021376.0000\n",
            "Epoch 44/400\n",
            "114/114 [==============================] - 0s 2ms/step - loss: 33852321792.0000 - val_loss: 32318339072.0000\n",
            "Epoch 45/400\n",
            "114/114 [==============================] - 0s 2ms/step - loss: 33702918144.0000 - val_loss: 32257363968.0000\n",
            "Epoch 46/400\n",
            "114/114 [==============================] - 0s 2ms/step - loss: 33616394240.0000 - val_loss: 32195749888.0000\n",
            "Epoch 47/400\n",
            "114/114 [==============================] - 0s 2ms/step - loss: 33596856320.0000 - val_loss: 32126138368.0000\n",
            "Epoch 48/400\n",
            "114/114 [==============================] - 0s 2ms/step - loss: 33499219968.0000 - val_loss: 32107069440.0000\n",
            "Epoch 49/400\n",
            "114/114 [==============================] - 0s 2ms/step - loss: 33422485504.0000 - val_loss: 32037955584.0000\n",
            "Epoch 50/400\n",
            "114/114 [==============================] - 0s 3ms/step - loss: 33344141312.0000 - val_loss: 31966711808.0000\n",
            "Epoch 51/400\n",
            "114/114 [==============================] - 0s 2ms/step - loss: 33286066176.0000 - val_loss: 31908638720.0000\n",
            "Epoch 52/400\n",
            "114/114 [==============================] - 0s 2ms/step - loss: 33241124864.0000 - val_loss: 31896258560.0000\n",
            "Epoch 53/400\n",
            "114/114 [==============================] - 0s 2ms/step - loss: 33158809600.0000 - val_loss: 31827576832.0000\n",
            "Epoch 54/400\n",
            "114/114 [==============================] - 0s 2ms/step - loss: 33079566336.0000 - val_loss: 31775010816.0000\n",
            "Epoch 55/400\n",
            "114/114 [==============================] - 0s 3ms/step - loss: 33012568064.0000 - val_loss: 31778138112.0000\n",
            "Epoch 56/400\n",
            "114/114 [==============================] - 0s 2ms/step - loss: 33011759104.0000 - val_loss: 31715274752.0000\n",
            "Epoch 57/400\n",
            "114/114 [==============================] - 0s 2ms/step - loss: 32922589184.0000 - val_loss: 31646666752.0000\n",
            "Epoch 58/400\n",
            "114/114 [==============================] - 0s 2ms/step - loss: 32895082496.0000 - val_loss: 31623835648.0000\n",
            "Epoch 59/400\n",
            "114/114 [==============================] - 0s 3ms/step - loss: 32833007616.0000 - val_loss: 31572393984.0000\n",
            "Epoch 60/400\n",
            "114/114 [==============================] - 0s 2ms/step - loss: 32774039552.0000 - val_loss: 31535667200.0000\n",
            "Epoch 61/400\n",
            "114/114 [==============================] - 0s 2ms/step - loss: 32737353728.0000 - val_loss: 31484469248.0000\n",
            "Epoch 62/400\n",
            "114/114 [==============================] - 0s 3ms/step - loss: 32695543808.0000 - val_loss: 31465482240.0000\n",
            "Epoch 63/400\n",
            "114/114 [==============================] - 0s 3ms/step - loss: 32634363904.0000 - val_loss: 31414976512.0000\n",
            "Epoch 64/400\n",
            "114/114 [==============================] - 0s 2ms/step - loss: 32595769344.0000 - val_loss: 31409958912.0000\n",
            "Epoch 65/400\n",
            "114/114 [==============================] - 0s 2ms/step - loss: 32572735488.0000 - val_loss: 31338346496.0000\n",
            "Epoch 66/400\n",
            "114/114 [==============================] - 0s 3ms/step - loss: 32507959296.0000 - val_loss: 31323199488.0000\n",
            "Epoch 67/400\n",
            "114/114 [==============================] - 0s 2ms/step - loss: 32416821248.0000 - val_loss: 31347906560.0000\n",
            "Epoch 68/400\n",
            "114/114 [==============================] - 0s 2ms/step - loss: 32411461632.0000 - val_loss: 31280277504.0000\n",
            "Epoch 69/400\n",
            "114/114 [==============================] - 0s 2ms/step - loss: 32378419200.0000 - val_loss: 31229095936.0000\n",
            "Epoch 70/400\n",
            "114/114 [==============================] - 0s 2ms/step - loss: 32367679488.0000 - val_loss: 31199115264.0000\n",
            "Epoch 71/400\n",
            "114/114 [==============================] - 0s 2ms/step - loss: 32319115264.0000 - val_loss: 31155259392.0000\n",
            "Epoch 72/400\n",
            "114/114 [==============================] - 0s 2ms/step - loss: 32288014336.0000 - val_loss: 31132635136.0000\n",
            "Epoch 73/400\n",
            "114/114 [==============================] - 0s 3ms/step - loss: 32296957952.0000 - val_loss: 31129532416.0000\n",
            "Epoch 74/400\n",
            "114/114 [==============================] - 0s 2ms/step - loss: 32206346240.0000 - val_loss: 31057371136.0000\n",
            "Epoch 75/400\n",
            "114/114 [==============================] - 0s 2ms/step - loss: 32166203392.0000 - val_loss: 31107538944.0000\n",
            "Epoch 76/400\n",
            "114/114 [==============================] - 0s 2ms/step - loss: 32155412480.0000 - val_loss: 31020754944.0000\n",
            "Epoch 77/400\n",
            "114/114 [==============================] - 0s 3ms/step - loss: 32086689792.0000 - val_loss: 31021860864.0000\n",
            "Epoch 78/400\n",
            "114/114 [==============================] - 0s 2ms/step - loss: 32076093440.0000 - val_loss: 30951288832.0000\n",
            "Epoch 79/400\n",
            "114/114 [==============================] - 0s 2ms/step - loss: 32017233920.0000 - val_loss: 30953312256.0000\n",
            "Epoch 80/400\n",
            "114/114 [==============================] - 0s 2ms/step - loss: 31999248384.0000 - val_loss: 31000303616.0000\n",
            "Epoch 81/400\n",
            "114/114 [==============================] - 0s 2ms/step - loss: 31966453760.0000 - val_loss: 30860763136.0000\n",
            "Epoch 82/400\n",
            "114/114 [==============================] - 0s 2ms/step - loss: 31910154240.0000 - val_loss: 30835165184.0000\n",
            "Epoch 83/400\n",
            "114/114 [==============================] - 0s 2ms/step - loss: 31878701056.0000 - val_loss: 30822488064.0000\n",
            "Epoch 84/400\n",
            "114/114 [==============================] - 0s 3ms/step - loss: 31837581312.0000 - val_loss: 30801494016.0000\n",
            "Epoch 85/400\n",
            "114/114 [==============================] - 0s 2ms/step - loss: 31910797312.0000 - val_loss: 30842017792.0000\n",
            "Epoch 86/400\n",
            "114/114 [==============================] - 0s 2ms/step - loss: 31852834816.0000 - val_loss: 30728546304.0000\n",
            "Epoch 87/400\n",
            "114/114 [==============================] - 0s 2ms/step - loss: 31811416064.0000 - val_loss: 30717489152.0000\n",
            "Epoch 88/400\n",
            "114/114 [==============================] - 0s 3ms/step - loss: 31743080448.0000 - val_loss: 30685433856.0000\n",
            "Epoch 89/400\n",
            "114/114 [==============================] - 0s 3ms/step - loss: 31718512640.0000 - val_loss: 30710605824.0000\n",
            "Epoch 90/400\n",
            "114/114 [==============================] - 0s 3ms/step - loss: 31695986688.0000 - val_loss: 30672441344.0000\n",
            "Epoch 91/400\n",
            "114/114 [==============================] - 0s 2ms/step - loss: 31676776448.0000 - val_loss: 30628990976.0000\n",
            "Epoch 92/400\n",
            "114/114 [==============================] - 0s 2ms/step - loss: 31637757952.0000 - val_loss: 30618146816.0000\n",
            "Epoch 93/400\n",
            "114/114 [==============================] - 0s 2ms/step - loss: 31625605120.0000 - val_loss: 30579775488.0000\n",
            "Epoch 94/400\n",
            "114/114 [==============================] - 0s 2ms/step - loss: 31593945088.0000 - val_loss: 30585710592.0000\n",
            "Epoch 95/400\n",
            "114/114 [==============================] - 0s 3ms/step - loss: 31550105600.0000 - val_loss: 30538768384.0000\n",
            "Epoch 96/400\n",
            "114/114 [==============================] - 0s 2ms/step - loss: 31520112640.0000 - val_loss: 30514483200.0000\n",
            "Epoch 97/400\n",
            "114/114 [==============================] - 0s 2ms/step - loss: 31463147520.0000 - val_loss: 30664912896.0000\n",
            "Epoch 98/400\n",
            "114/114 [==============================] - 0s 2ms/step - loss: 31413383168.0000 - val_loss: 30473496576.0000\n",
            "Epoch 99/400\n",
            "114/114 [==============================] - 0s 2ms/step - loss: 31417309184.0000 - val_loss: 30442151936.0000\n",
            "Epoch 100/400\n",
            "114/114 [==============================] - 0s 2ms/step - loss: 31435286528.0000 - val_loss: 30456352768.0000\n",
            "Epoch 101/400\n",
            "114/114 [==============================] - 0s 2ms/step - loss: 31397912576.0000 - val_loss: 30429224960.0000\n",
            "Epoch 102/400\n",
            "114/114 [==============================] - 0s 2ms/step - loss: 31372285952.0000 - val_loss: 30407090176.0000\n",
            "Epoch 103/400\n",
            "114/114 [==============================] - 0s 2ms/step - loss: 31353290752.0000 - val_loss: 30360983552.0000\n",
            "Epoch 104/400\n",
            "114/114 [==============================] - 0s 2ms/step - loss: 31341125632.0000 - val_loss: 30330740736.0000\n",
            "Epoch 105/400\n",
            "114/114 [==============================] - 0s 2ms/step - loss: 31251501056.0000 - val_loss: 30303062016.0000\n",
            "Epoch 106/400\n",
            "114/114 [==============================] - 0s 2ms/step - loss: 31209164800.0000 - val_loss: 30309517312.0000\n",
            "Epoch 107/400\n",
            "114/114 [==============================] - 0s 3ms/step - loss: 31238969344.0000 - val_loss: 30283522048.0000\n",
            "Epoch 108/400\n",
            "114/114 [==============================] - 0s 2ms/step - loss: 31167215616.0000 - val_loss: 30391527424.0000\n",
            "Epoch 109/400\n",
            "114/114 [==============================] - 0s 2ms/step - loss: 31203534848.0000 - val_loss: 30240104448.0000\n",
            "Epoch 110/400\n",
            "114/114 [==============================] - 0s 3ms/step - loss: 31167426560.0000 - val_loss: 30256513024.0000\n",
            "Epoch 111/400\n",
            "114/114 [==============================] - 0s 2ms/step - loss: 31099959296.0000 - val_loss: 30195347456.0000\n",
            "Epoch 112/400\n",
            "114/114 [==============================] - 0s 2ms/step - loss: 31135334400.0000 - val_loss: 30166882304.0000\n",
            "Epoch 113/400\n",
            "114/114 [==============================] - 0s 3ms/step - loss: 31073519616.0000 - val_loss: 30214123520.0000\n",
            "Epoch 114/400\n",
            "114/114 [==============================] - 0s 3ms/step - loss: 31037122560.0000 - val_loss: 30136723456.0000\n",
            "Epoch 115/400\n",
            "114/114 [==============================] - 0s 2ms/step - loss: 31025197056.0000 - val_loss: 30106503168.0000\n",
            "Epoch 116/400\n",
            "114/114 [==============================] - 0s 2ms/step - loss: 30982215680.0000 - val_loss: 30086471680.0000\n",
            "Epoch 117/400\n",
            "114/114 [==============================] - 0s 3ms/step - loss: 30955128832.0000 - val_loss: 30099011584.0000\n",
            "Epoch 118/400\n",
            "114/114 [==============================] - 0s 3ms/step - loss: 30963804160.0000 - val_loss: 30114865152.0000\n",
            "Epoch 119/400\n",
            "114/114 [==============================] - 0s 3ms/step - loss: 30892918784.0000 - val_loss: 30046584832.0000\n",
            "Epoch 120/400\n",
            "114/114 [==============================] - 0s 2ms/step - loss: 30862708736.0000 - val_loss: 30171052032.0000\n",
            "Epoch 121/400\n",
            "114/114 [==============================] - 0s 3ms/step - loss: 30899249152.0000 - val_loss: 29998934016.0000\n",
            "Epoch 122/400\n",
            "114/114 [==============================] - 0s 2ms/step - loss: 30826147840.0000 - val_loss: 29972285440.0000\n",
            "Epoch 123/400\n",
            "114/114 [==============================] - 0s 3ms/step - loss: 30775928832.0000 - val_loss: 29997664256.0000\n",
            "Epoch 124/400\n",
            "114/114 [==============================] - 0s 2ms/step - loss: 30760280064.0000 - val_loss: 29956139008.0000\n",
            "Epoch 125/400\n",
            "114/114 [==============================] - 0s 3ms/step - loss: 30769971200.0000 - val_loss: 29949323264.0000\n",
            "Epoch 126/400\n",
            "114/114 [==============================] - 0s 2ms/step - loss: 30807785472.0000 - val_loss: 29884219392.0000\n",
            "Epoch 127/400\n",
            "114/114 [==============================] - 0s 3ms/step - loss: 30698600448.0000 - val_loss: 29860327424.0000\n",
            "Epoch 128/400\n",
            "114/114 [==============================] - 0s 3ms/step - loss: 30657918976.0000 - val_loss: 29911410688.0000\n",
            "Epoch 129/400\n",
            "114/114 [==============================] - 0s 3ms/step - loss: 30674337792.0000 - val_loss: 29805045760.0000\n",
            "Epoch 130/400\n",
            "114/114 [==============================] - 0s 2ms/step - loss: 30626899968.0000 - val_loss: 29903507456.0000\n",
            "Epoch 131/400\n",
            "114/114 [==============================] - 0s 2ms/step - loss: 30621990912.0000 - val_loss: 29780828160.0000\n",
            "Epoch 132/400\n",
            "114/114 [==============================] - 0s 2ms/step - loss: 30577156096.0000 - val_loss: 29769170944.0000\n",
            "Epoch 133/400\n",
            "114/114 [==============================] - 0s 3ms/step - loss: 30536830976.0000 - val_loss: 29759268864.0000\n",
            "Epoch 134/400\n",
            "114/114 [==============================] - 0s 2ms/step - loss: 30526955520.0000 - val_loss: 29722777600.0000\n",
            "Epoch 135/400\n",
            "114/114 [==============================] - 0s 2ms/step - loss: 30512488448.0000 - val_loss: 29700913152.0000\n",
            "Epoch 136/400\n",
            "114/114 [==============================] - 0s 2ms/step - loss: 30435776512.0000 - val_loss: 29848223744.0000\n",
            "Epoch 137/400\n",
            "114/114 [==============================] - 0s 2ms/step - loss: 30490894336.0000 - val_loss: 29677293568.0000\n",
            "Epoch 138/400\n",
            "114/114 [==============================] - 0s 2ms/step - loss: 30406412288.0000 - val_loss: 29649793024.0000\n",
            "Epoch 139/400\n",
            "114/114 [==============================] - 0s 2ms/step - loss: 30393757696.0000 - val_loss: 29622736896.0000\n",
            "Epoch 140/400\n",
            "114/114 [==============================] - 0s 3ms/step - loss: 30421583872.0000 - val_loss: 29616941056.0000\n",
            "Epoch 141/400\n",
            "114/114 [==============================] - 0s 3ms/step - loss: 30411950080.0000 - val_loss: 29589317632.0000\n",
            "Epoch 142/400\n",
            "114/114 [==============================] - 0s 2ms/step - loss: 30334392320.0000 - val_loss: 29587927040.0000\n",
            "Epoch 143/400\n",
            "114/114 [==============================] - 0s 3ms/step - loss: 30300547072.0000 - val_loss: 29577756672.0000\n",
            "Epoch 144/400\n",
            "114/114 [==============================] - 0s 2ms/step - loss: 30259380224.0000 - val_loss: 29557991424.0000\n",
            "Epoch 145/400\n",
            "114/114 [==============================] - 0s 3ms/step - loss: 30239102976.0000 - val_loss: 29527044096.0000\n",
            "Epoch 146/400\n",
            "114/114 [==============================] - 0s 2ms/step - loss: 30303356928.0000 - val_loss: 29555027968.0000\n",
            "Epoch 147/400\n",
            "114/114 [==============================] - 0s 2ms/step - loss: 30293577728.0000 - val_loss: 29523515392.0000\n",
            "Epoch 148/400\n",
            "114/114 [==============================] - 0s 3ms/step - loss: 30189299712.0000 - val_loss: 29495816192.0000\n",
            "Epoch 149/400\n",
            "114/114 [==============================] - 0s 2ms/step - loss: 30214440960.0000 - val_loss: 29463642112.0000\n",
            "Epoch 150/400\n",
            "114/114 [==============================] - 0s 3ms/step - loss: 30139586560.0000 - val_loss: 29429628928.0000\n",
            "Epoch 151/400\n",
            "114/114 [==============================] - 0s 2ms/step - loss: 30124244992.0000 - val_loss: 29414864896.0000\n",
            "Epoch 152/400\n",
            "114/114 [==============================] - 0s 3ms/step - loss: 30195175424.0000 - val_loss: 29517950976.0000\n",
            "Epoch 153/400\n",
            "114/114 [==============================] - 0s 2ms/step - loss: 30069035008.0000 - val_loss: 29392459776.0000\n",
            "Epoch 154/400\n",
            "114/114 [==============================] - 0s 2ms/step - loss: 30123266048.0000 - val_loss: 29359998976.0000\n",
            "Epoch 155/400\n",
            "114/114 [==============================] - 0s 3ms/step - loss: 30050658304.0000 - val_loss: 29350887424.0000\n",
            "Epoch 156/400\n",
            "114/114 [==============================] - 0s 2ms/step - loss: 30034900992.0000 - val_loss: 29340014592.0000\n",
            "Epoch 157/400\n",
            "114/114 [==============================] - 0s 2ms/step - loss: 29998000128.0000 - val_loss: 29365704704.0000\n",
            "Epoch 158/400\n",
            "114/114 [==============================] - 0s 3ms/step - loss: 30053672960.0000 - val_loss: 29304995840.0000\n",
            "Epoch 159/400\n",
            "114/114 [==============================] - 0s 2ms/step - loss: 29976756224.0000 - val_loss: 29338560512.0000\n",
            "Epoch 160/400\n",
            "114/114 [==============================] - 0s 2ms/step - loss: 29932615680.0000 - val_loss: 29263585280.0000\n",
            "Epoch 161/400\n",
            "114/114 [==============================] - 0s 2ms/step - loss: 29884192768.0000 - val_loss: 29273198592.0000\n",
            "Epoch 162/400\n",
            "114/114 [==============================] - 0s 3ms/step - loss: 29890066432.0000 - val_loss: 29264312320.0000\n",
            "Epoch 163/400\n",
            "114/114 [==============================] - 0s 3ms/step - loss: 29873803264.0000 - val_loss: 29240657920.0000\n",
            "Epoch 164/400\n",
            "114/114 [==============================] - 0s 3ms/step - loss: 29862473728.0000 - val_loss: 29209905152.0000\n",
            "Epoch 165/400\n",
            "114/114 [==============================] - 0s 3ms/step - loss: 29847588864.0000 - val_loss: 29323472896.0000\n",
            "Epoch 166/400\n",
            "114/114 [==============================] - 0s 2ms/step - loss: 29785395200.0000 - val_loss: 29151453184.0000\n",
            "Epoch 167/400\n",
            "114/114 [==============================] - 0s 2ms/step - loss: 29760724992.0000 - val_loss: 29137197056.0000\n",
            "Epoch 168/400\n",
            "114/114 [==============================] - 0s 2ms/step - loss: 29775925248.0000 - val_loss: 29126627328.0000\n",
            "Epoch 169/400\n",
            "114/114 [==============================] - 0s 3ms/step - loss: 29812729856.0000 - val_loss: 29112684544.0000\n",
            "Epoch 170/400\n",
            "114/114 [==============================] - 0s 2ms/step - loss: 29717424128.0000 - val_loss: 29229627392.0000\n",
            "Epoch 171/400\n",
            "114/114 [==============================] - 0s 2ms/step - loss: 29780170752.0000 - val_loss: 29063450624.0000\n",
            "Epoch 172/400\n",
            "114/114 [==============================] - 0s 3ms/step - loss: 29688582144.0000 - val_loss: 29052080128.0000\n",
            "Epoch 173/400\n",
            "114/114 [==============================] - 0s 3ms/step - loss: 29665159168.0000 - val_loss: 29079123968.0000\n",
            "Epoch 174/400\n",
            "114/114 [==============================] - 0s 2ms/step - loss: 29652334592.0000 - val_loss: 29028300800.0000\n",
            "Epoch 175/400\n",
            "114/114 [==============================] - 0s 2ms/step - loss: 29621723136.0000 - val_loss: 29010526208.0000\n",
            "Epoch 176/400\n",
            "114/114 [==============================] - 0s 2ms/step - loss: 29588865024.0000 - val_loss: 29011304448.0000\n",
            "Epoch 177/400\n",
            "114/114 [==============================] - 0s 2ms/step - loss: 29604409344.0000 - val_loss: 28975697920.0000\n",
            "Epoch 178/400\n",
            "114/114 [==============================] - 0s 2ms/step - loss: 29563443200.0000 - val_loss: 29018880000.0000\n",
            "Epoch 179/400\n",
            "114/114 [==============================] - 0s 2ms/step - loss: 29537226752.0000 - val_loss: 28971538432.0000\n",
            "Epoch 180/400\n",
            "114/114 [==============================] - 0s 2ms/step - loss: 29542281216.0000 - val_loss: 28917850112.0000\n",
            "Epoch 181/400\n",
            "114/114 [==============================] - 0s 2ms/step - loss: 29537773568.0000 - val_loss: 28906006528.0000\n",
            "Epoch 182/400\n",
            "114/114 [==============================] - 0s 2ms/step - loss: 29505200128.0000 - val_loss: 28894326784.0000\n",
            "Epoch 183/400\n",
            "114/114 [==============================] - 0s 2ms/step - loss: 29507004416.0000 - val_loss: 28852164608.0000\n",
            "Epoch 184/400\n",
            "114/114 [==============================] - 0s 3ms/step - loss: 29444210688.0000 - val_loss: 28844306432.0000\n",
            "Epoch 185/400\n",
            "114/114 [==============================] - 0s 2ms/step - loss: 29417033728.0000 - val_loss: 28838825984.0000\n",
            "Epoch 186/400\n",
            "114/114 [==============================] - 0s 2ms/step - loss: 29406193664.0000 - val_loss: 28823635968.0000\n",
            "Epoch 187/400\n",
            "114/114 [==============================] - 0s 2ms/step - loss: 29420402688.0000 - val_loss: 28815374336.0000\n",
            "Epoch 188/400\n",
            "114/114 [==============================] - 0s 2ms/step - loss: 29380345856.0000 - val_loss: 28798816256.0000\n",
            "Epoch 189/400\n",
            "114/114 [==============================] - 0s 2ms/step - loss: 29395062784.0000 - val_loss: 28792627200.0000\n",
            "Epoch 190/400\n",
            "114/114 [==============================] - 0s 2ms/step - loss: 29333268480.0000 - val_loss: 28780392448.0000\n",
            "Epoch 191/400\n",
            "114/114 [==============================] - 0s 3ms/step - loss: 29290280960.0000 - val_loss: 28758345728.0000\n",
            "Epoch 192/400\n",
            "114/114 [==============================] - 0s 2ms/step - loss: 29356746752.0000 - val_loss: 28743882752.0000\n",
            "Epoch 193/400\n",
            "114/114 [==============================] - 0s 2ms/step - loss: 29260679168.0000 - val_loss: 28795469824.0000\n",
            "Epoch 194/400\n",
            "114/114 [==============================] - 0s 3ms/step - loss: 29249470464.0000 - val_loss: 28725893120.0000\n",
            "Epoch 195/400\n",
            "114/114 [==============================] - 0s 2ms/step - loss: 29257900032.0000 - val_loss: 28697307136.0000\n",
            "Epoch 196/400\n",
            "114/114 [==============================] - 0s 3ms/step - loss: 29214810112.0000 - val_loss: 28669284352.0000\n",
            "Epoch 197/400\n",
            "114/114 [==============================] - 0s 3ms/step - loss: 29225703424.0000 - val_loss: 28655828992.0000\n",
            "Epoch 198/400\n",
            "114/114 [==============================] - 0s 2ms/step - loss: 29216659456.0000 - val_loss: 28647170048.0000\n",
            "Epoch 199/400\n",
            "114/114 [==============================] - 0s 3ms/step - loss: 29165557760.0000 - val_loss: 28653711360.0000\n",
            "Epoch 200/400\n",
            "114/114 [==============================] - 0s 2ms/step - loss: 29202634752.0000 - val_loss: 28647436288.0000\n",
            "Epoch 201/400\n",
            "114/114 [==============================] - 0s 2ms/step - loss: 29139351552.0000 - val_loss: 28630796288.0000\n",
            "Epoch 202/400\n",
            "114/114 [==============================] - 0s 2ms/step - loss: 29125892096.0000 - val_loss: 28603537408.0000\n",
            "Epoch 203/400\n",
            "114/114 [==============================] - 0s 2ms/step - loss: 29125957632.0000 - val_loss: 28642025472.0000\n",
            "Epoch 204/400\n",
            "114/114 [==============================] - 0s 2ms/step - loss: 29065359360.0000 - val_loss: 28617832448.0000\n",
            "Epoch 205/400\n",
            "114/114 [==============================] - 0s 3ms/step - loss: 29071806464.0000 - val_loss: 28620738560.0000\n",
            "Epoch 206/400\n",
            "114/114 [==============================] - 0s 3ms/step - loss: 29048905728.0000 - val_loss: 28573560832.0000\n",
            "Epoch 207/400\n",
            "114/114 [==============================] - 0s 2ms/step - loss: 29035847680.0000 - val_loss: 28517083136.0000\n",
            "Epoch 208/400\n",
            "114/114 [==============================] - 0s 2ms/step - loss: 29029062656.0000 - val_loss: 28518666240.0000\n",
            "Epoch 209/400\n",
            "114/114 [==============================] - 0s 3ms/step - loss: 29022664704.0000 - val_loss: 28535132160.0000\n",
            "Epoch 210/400\n",
            "114/114 [==============================] - 0s 3ms/step - loss: 29035968512.0000 - val_loss: 28545681408.0000\n",
            "Epoch 211/400\n",
            "114/114 [==============================] - 0s 2ms/step - loss: 28968599552.0000 - val_loss: 28511057920.0000\n",
            "Epoch 212/400\n",
            "114/114 [==============================] - 0s 3ms/step - loss: 28970352640.0000 - val_loss: 28461780992.0000\n",
            "Epoch 213/400\n",
            "114/114 [==============================] - 0s 2ms/step - loss: 28931966976.0000 - val_loss: 28467271680.0000\n",
            "Epoch 214/400\n",
            "114/114 [==============================] - 0s 2ms/step - loss: 28924289024.0000 - val_loss: 28433268736.0000\n",
            "Epoch 215/400\n",
            "114/114 [==============================] - 0s 3ms/step - loss: 28904312832.0000 - val_loss: 28418557952.0000\n",
            "Epoch 216/400\n",
            "114/114 [==============================] - 0s 3ms/step - loss: 28883793920.0000 - val_loss: 28413208576.0000\n",
            "Epoch 217/400\n",
            "114/114 [==============================] - 0s 3ms/step - loss: 28898676736.0000 - val_loss: 28439660544.0000\n",
            "Epoch 218/400\n",
            "114/114 [==============================] - 0s 3ms/step - loss: 28876298240.0000 - val_loss: 28393230336.0000\n",
            "Epoch 219/400\n",
            "114/114 [==============================] - 0s 2ms/step - loss: 28828815360.0000 - val_loss: 28411219968.0000\n",
            "Epoch 220/400\n",
            "114/114 [==============================] - 0s 2ms/step - loss: 28826865664.0000 - val_loss: 28362072064.0000\n",
            "Epoch 221/400\n",
            "114/114 [==============================] - 0s 2ms/step - loss: 28798103552.0000 - val_loss: 28423604224.0000\n",
            "Epoch 222/400\n",
            "114/114 [==============================] - 0s 3ms/step - loss: 28814196736.0000 - val_loss: 28358219776.0000\n",
            "Epoch 223/400\n",
            "114/114 [==============================] - 0s 2ms/step - loss: 28804931584.0000 - val_loss: 28351537152.0000\n",
            "Epoch 224/400\n",
            "114/114 [==============================] - 0s 2ms/step - loss: 28766760960.0000 - val_loss: 28435830784.0000\n",
            "Epoch 225/400\n",
            "114/114 [==============================] - 0s 3ms/step - loss: 28773742592.0000 - val_loss: 28336072704.0000\n",
            "Epoch 226/400\n",
            "114/114 [==============================] - 0s 3ms/step - loss: 28729665536.0000 - val_loss: 28314961920.0000\n",
            "Epoch 227/400\n",
            "114/114 [==============================] - 0s 2ms/step - loss: 28790179840.0000 - val_loss: 28254181376.0000\n",
            "Epoch 228/400\n",
            "114/114 [==============================] - 0s 2ms/step - loss: 28763650048.0000 - val_loss: 28253718528.0000\n",
            "Epoch 229/400\n",
            "114/114 [==============================] - 0s 3ms/step - loss: 28667430912.0000 - val_loss: 28222756864.0000\n",
            "Epoch 230/400\n",
            "114/114 [==============================] - 0s 2ms/step - loss: 28643571712.0000 - val_loss: 28241467392.0000\n",
            "Epoch 231/400\n",
            "114/114 [==============================] - 0s 2ms/step - loss: 28654731264.0000 - val_loss: 28204677120.0000\n",
            "Epoch 232/400\n",
            "114/114 [==============================] - 0s 2ms/step - loss: 28674988032.0000 - val_loss: 28381216768.0000\n",
            "Epoch 233/400\n",
            "114/114 [==============================] - 0s 2ms/step - loss: 28650692608.0000 - val_loss: 28171460608.0000\n",
            "Epoch 234/400\n",
            "114/114 [==============================] - 0s 2ms/step - loss: 28642635776.0000 - val_loss: 28213018624.0000\n",
            "Epoch 235/400\n",
            "114/114 [==============================] - 0s 2ms/step - loss: 28567838720.0000 - val_loss: 28159168512.0000\n",
            "Epoch 236/400\n",
            "114/114 [==============================] - 0s 2ms/step - loss: 28582717440.0000 - val_loss: 28170545152.0000\n",
            "Epoch 237/400\n",
            "114/114 [==============================] - 0s 2ms/step - loss: 28619266048.0000 - val_loss: 28151144448.0000\n",
            "Epoch 238/400\n",
            "114/114 [==============================] - 0s 3ms/step - loss: 28554661888.0000 - val_loss: 28139251712.0000\n",
            "Epoch 239/400\n",
            "114/114 [==============================] - 0s 2ms/step - loss: 28554059776.0000 - val_loss: 28146636800.0000\n",
            "Epoch 240/400\n",
            "114/114 [==============================] - 0s 2ms/step - loss: 28523841536.0000 - val_loss: 28117633024.0000\n",
            "Epoch 241/400\n",
            "114/114 [==============================] - 0s 3ms/step - loss: 28496007168.0000 - val_loss: 28128915456.0000\n",
            "Epoch 242/400\n",
            "114/114 [==============================] - 0s 2ms/step - loss: 28531134464.0000 - val_loss: 28101644288.0000\n",
            "Epoch 243/400\n",
            "114/114 [==============================] - 0s 3ms/step - loss: 28489609216.0000 - val_loss: 28085346304.0000\n",
            "Epoch 244/400\n",
            "114/114 [==============================] - 0s 3ms/step - loss: 28446330880.0000 - val_loss: 28125681664.0000\n",
            "Epoch 245/400\n",
            "114/114 [==============================] - 0s 2ms/step - loss: 28452124672.0000 - val_loss: 28137453568.0000\n",
            "Epoch 246/400\n",
            "114/114 [==============================] - 0s 2ms/step - loss: 28467113984.0000 - val_loss: 28062044160.0000\n",
            "Epoch 247/400\n",
            "114/114 [==============================] - 0s 3ms/step - loss: 28475109376.0000 - val_loss: 28040325120.0000\n",
            "Epoch 248/400\n",
            "114/114 [==============================] - 0s 2ms/step - loss: 28514641920.0000 - val_loss: 28017713152.0000\n",
            "Epoch 249/400\n",
            "114/114 [==============================] - 0s 2ms/step - loss: 28439973888.0000 - val_loss: 28056205312.0000\n",
            "Epoch 250/400\n",
            "114/114 [==============================] - 0s 2ms/step - loss: 28414306304.0000 - val_loss: 27991984128.0000\n",
            "Epoch 251/400\n",
            "114/114 [==============================] - 0s 2ms/step - loss: 28384368640.0000 - val_loss: 27992432640.0000\n",
            "Epoch 252/400\n",
            "114/114 [==============================] - 0s 2ms/step - loss: 28357793792.0000 - val_loss: 27982295040.0000\n",
            "Epoch 253/400\n",
            "114/114 [==============================] - 0s 3ms/step - loss: 28370542592.0000 - val_loss: 27968124928.0000\n",
            "Epoch 254/400\n",
            "114/114 [==============================] - 0s 2ms/step - loss: 28355940352.0000 - val_loss: 27964723200.0000\n",
            "Epoch 255/400\n",
            "114/114 [==============================] - 0s 2ms/step - loss: 28373286912.0000 - val_loss: 27947876352.0000\n",
            "Epoch 256/400\n",
            "114/114 [==============================] - 0s 2ms/step - loss: 28317505536.0000 - val_loss: 27928193024.0000\n",
            "Epoch 257/400\n",
            "114/114 [==============================] - 0s 2ms/step - loss: 28347166720.0000 - val_loss: 27911280640.0000\n",
            "Epoch 258/400\n",
            "114/114 [==============================] - 0s 3ms/step - loss: 28306759680.0000 - val_loss: 27908147200.0000\n",
            "Epoch 259/400\n",
            "114/114 [==============================] - 0s 2ms/step - loss: 28309858304.0000 - val_loss: 27984328704.0000\n",
            "Epoch 260/400\n",
            "114/114 [==============================] - 0s 2ms/step - loss: 28278761472.0000 - val_loss: 27964647424.0000\n",
            "Epoch 261/400\n",
            "114/114 [==============================] - 0s 3ms/step - loss: 28252469248.0000 - val_loss: 27897276416.0000\n",
            "Epoch 262/400\n",
            "114/114 [==============================] - 0s 2ms/step - loss: 28231454720.0000 - val_loss: 27903453184.0000\n",
            "Epoch 263/400\n",
            "114/114 [==============================] - 0s 2ms/step - loss: 28253149184.0000 - val_loss: 27852414976.0000\n",
            "Epoch 264/400\n",
            "114/114 [==============================] - 0s 2ms/step - loss: 28250896384.0000 - val_loss: 27871397888.0000\n",
            "Epoch 265/400\n",
            "114/114 [==============================] - 0s 2ms/step - loss: 28190959616.0000 - val_loss: 27855243264.0000\n",
            "Epoch 266/400\n",
            "114/114 [==============================] - 0s 2ms/step - loss: 28213565440.0000 - val_loss: 27897591808.0000\n",
            "Epoch 267/400\n",
            "114/114 [==============================] - 0s 3ms/step - loss: 28251197440.0000 - val_loss: 27861968896.0000\n",
            "Epoch 268/400\n",
            "114/114 [==============================] - 0s 3ms/step - loss: 28183531520.0000 - val_loss: 27828938752.0000\n",
            "Epoch 269/400\n",
            "114/114 [==============================] - 0s 3ms/step - loss: 28215949312.0000 - val_loss: 27803301888.0000\n",
            "Epoch 270/400\n",
            "114/114 [==============================] - 0s 3ms/step - loss: 28194478080.0000 - val_loss: 27792046080.0000\n",
            "Epoch 271/400\n",
            "114/114 [==============================] - 0s 2ms/step - loss: 28189814784.0000 - val_loss: 27770822656.0000\n",
            "Epoch 272/400\n",
            "114/114 [==============================] - 0s 3ms/step - loss: 28142620672.0000 - val_loss: 27780192256.0000\n",
            "Epoch 273/400\n",
            "114/114 [==============================] - 0s 2ms/step - loss: 28154507264.0000 - val_loss: 27848357888.0000\n",
            "Epoch 274/400\n",
            "114/114 [==============================] - 0s 2ms/step - loss: 28136972288.0000 - val_loss: 27776718848.0000\n",
            "Epoch 275/400\n",
            "114/114 [==============================] - 0s 3ms/step - loss: 28127959040.0000 - val_loss: 27749611520.0000\n",
            "Epoch 276/400\n",
            "114/114 [==============================] - 0s 2ms/step - loss: 28096817152.0000 - val_loss: 27746179072.0000\n",
            "Epoch 277/400\n",
            "114/114 [==============================] - 0s 2ms/step - loss: 28129347584.0000 - val_loss: 27740090368.0000\n",
            "Epoch 278/400\n",
            "114/114 [==============================] - 0s 2ms/step - loss: 28102969344.0000 - val_loss: 27705458688.0000\n",
            "Epoch 279/400\n",
            "114/114 [==============================] - 0s 3ms/step - loss: 28063606784.0000 - val_loss: 27702327296.0000\n",
            "Epoch 280/400\n",
            "114/114 [==============================] - 0s 2ms/step - loss: 28071841792.0000 - val_loss: 27821776896.0000\n",
            "Epoch 281/400\n",
            "114/114 [==============================] - 0s 2ms/step - loss: 28060952576.0000 - val_loss: 27677227008.0000\n",
            "Epoch 282/400\n",
            "114/114 [==============================] - 0s 3ms/step - loss: 28015867904.0000 - val_loss: 27871602688.0000\n",
            "Epoch 283/400\n",
            "114/114 [==============================] - 0s 3ms/step - loss: 28057661440.0000 - val_loss: 27761561600.0000\n",
            "Epoch 284/400\n",
            "114/114 [==============================] - 0s 2ms/step - loss: 28134539264.0000 - val_loss: 27684675584.0000\n",
            "Epoch 285/400\n",
            "114/114 [==============================] - 0s 3ms/step - loss: 28061192192.0000 - val_loss: 27661197312.0000\n",
            "Epoch 286/400\n",
            "114/114 [==============================] - 0s 3ms/step - loss: 27967289344.0000 - val_loss: 27647207424.0000\n",
            "Epoch 287/400\n",
            "114/114 [==============================] - 0s 2ms/step - loss: 28047083520.0000 - val_loss: 27639427072.0000\n",
            "Epoch 288/400\n",
            "114/114 [==============================] - 0s 2ms/step - loss: 27977523200.0000 - val_loss: 27702904832.0000\n",
            "Epoch 289/400\n",
            "114/114 [==============================] - 0s 2ms/step - loss: 27924809728.0000 - val_loss: 27609389056.0000\n",
            "Epoch 290/400\n",
            "114/114 [==============================] - 0s 3ms/step - loss: 27973652480.0000 - val_loss: 27715899392.0000\n",
            "Epoch 291/400\n",
            "114/114 [==============================] - 0s 2ms/step - loss: 27946979328.0000 - val_loss: 27584686080.0000\n",
            "Epoch 292/400\n",
            "114/114 [==============================] - 0s 2ms/step - loss: 27963471872.0000 - val_loss: 27696607232.0000\n",
            "Epoch 293/400\n",
            "114/114 [==============================] - 0s 3ms/step - loss: 27946059776.0000 - val_loss: 27633121280.0000\n",
            "Epoch 294/400\n",
            "114/114 [==============================] - 0s 3ms/step - loss: 27946559488.0000 - val_loss: 27699963904.0000\n",
            "Epoch 295/400\n",
            "114/114 [==============================] - 0s 2ms/step - loss: 27938965504.0000 - val_loss: 27699542016.0000\n",
            "Epoch 296/400\n",
            "114/114 [==============================] - 0s 3ms/step - loss: 28163336192.0000 - val_loss: 27578357760.0000\n",
            "Epoch 297/400\n",
            "114/114 [==============================] - 0s 3ms/step - loss: 27919994880.0000 - val_loss: 27534874624.0000\n",
            "Epoch 298/400\n",
            "114/114 [==============================] - 0s 2ms/step - loss: 27860758528.0000 - val_loss: 27511533568.0000\n",
            "Epoch 299/400\n",
            "114/114 [==============================] - 0s 3ms/step - loss: 27916677120.0000 - val_loss: 27517831168.0000\n",
            "Epoch 300/400\n",
            "114/114 [==============================] - 0s 2ms/step - loss: 27869609984.0000 - val_loss: 27498684416.0000\n",
            "Epoch 301/400\n",
            "114/114 [==============================] - 0s 2ms/step - loss: 27917875200.0000 - val_loss: 27497093120.0000\n",
            "Epoch 302/400\n",
            "114/114 [==============================] - 0s 3ms/step - loss: 27880206336.0000 - val_loss: 27488815104.0000\n",
            "Epoch 303/400\n",
            "114/114 [==============================] - 0s 3ms/step - loss: 27842146304.0000 - val_loss: 27480979456.0000\n",
            "Epoch 304/400\n",
            "114/114 [==============================] - 0s 3ms/step - loss: 27858972672.0000 - val_loss: 27460960256.0000\n",
            "Epoch 305/400\n",
            "114/114 [==============================] - 0s 3ms/step - loss: 27820449792.0000 - val_loss: 27464079360.0000\n",
            "Epoch 306/400\n",
            "114/114 [==============================] - 0s 2ms/step - loss: 27864287232.0000 - val_loss: 27462051840.0000\n",
            "Epoch 307/400\n",
            "114/114 [==============================] - 0s 2ms/step - loss: 27851995136.0000 - val_loss: 27443503104.0000\n",
            "Epoch 308/400\n",
            "114/114 [==============================] - 0s 2ms/step - loss: 27809734656.0000 - val_loss: 27426820096.0000\n",
            "Epoch 309/400\n",
            "114/114 [==============================] - 0s 3ms/step - loss: 27809028096.0000 - val_loss: 27425398784.0000\n",
            "Epoch 310/400\n",
            "114/114 [==============================] - 0s 3ms/step - loss: 27864070144.0000 - val_loss: 27411195904.0000\n",
            "Epoch 311/400\n",
            "114/114 [==============================] - 0s 3ms/step - loss: 27778019328.0000 - val_loss: 27415425024.0000\n",
            "Epoch 312/400\n",
            "114/114 [==============================] - 0s 2ms/step - loss: 27817582592.0000 - val_loss: 27465502720.0000\n",
            "Epoch 313/400\n",
            "114/114 [==============================] - 0s 3ms/step - loss: 27766929408.0000 - val_loss: 27395719168.0000\n",
            "Epoch 314/400\n",
            "114/114 [==============================] - 0s 2ms/step - loss: 27747160064.0000 - val_loss: 27378438144.0000\n",
            "Epoch 315/400\n",
            "114/114 [==============================] - 0s 3ms/step - loss: 27750572032.0000 - val_loss: 27381256192.0000\n",
            "Epoch 316/400\n",
            "114/114 [==============================] - 0s 2ms/step - loss: 27728373760.0000 - val_loss: 27374688256.0000\n",
            "Epoch 317/400\n",
            "114/114 [==============================] - 0s 3ms/step - loss: 27743717376.0000 - val_loss: 27461222400.0000\n",
            "Epoch 318/400\n",
            "114/114 [==============================] - 0s 3ms/step - loss: 27747465216.0000 - val_loss: 27400763392.0000\n",
            "Epoch 319/400\n",
            "114/114 [==============================] - 0s 3ms/step - loss: 27724259328.0000 - val_loss: 27359365120.0000\n",
            "Epoch 320/400\n",
            "114/114 [==============================] - 0s 2ms/step - loss: 27690602496.0000 - val_loss: 27419246592.0000\n",
            "Epoch 321/400\n",
            "114/114 [==============================] - 0s 3ms/step - loss: 27730921472.0000 - val_loss: 27331512320.0000\n",
            "Epoch 322/400\n",
            "114/114 [==============================] - 0s 2ms/step - loss: 27664578560.0000 - val_loss: 27573786624.0000\n",
            "Epoch 323/400\n",
            "114/114 [==============================] - 0s 3ms/step - loss: 27703062528.0000 - val_loss: 27382953984.0000\n",
            "Epoch 324/400\n",
            "114/114 [==============================] - 0s 3ms/step - loss: 27688273920.0000 - val_loss: 27308242944.0000\n",
            "Epoch 325/400\n",
            "114/114 [==============================] - 0s 3ms/step - loss: 27723950080.0000 - val_loss: 27307116544.0000\n",
            "Epoch 326/400\n",
            "114/114 [==============================] - 0s 3ms/step - loss: 27668684800.0000 - val_loss: 27357952000.0000\n",
            "Epoch 327/400\n",
            "114/114 [==============================] - 0s 2ms/step - loss: 27629314048.0000 - val_loss: 27285727232.0000\n",
            "Epoch 328/400\n",
            "114/114 [==============================] - 0s 2ms/step - loss: 27636713472.0000 - val_loss: 27343761408.0000\n",
            "Epoch 329/400\n",
            "114/114 [==============================] - 0s 2ms/step - loss: 27641038848.0000 - val_loss: 27265988608.0000\n",
            "Epoch 330/400\n",
            "114/114 [==============================] - 0s 3ms/step - loss: 27636105216.0000 - val_loss: 27268698112.0000\n",
            "Epoch 331/400\n",
            "114/114 [==============================] - 0s 2ms/step - loss: 27625117696.0000 - val_loss: 27248453632.0000\n",
            "Epoch 332/400\n",
            "114/114 [==============================] - 0s 2ms/step - loss: 27622053888.0000 - val_loss: 27248642048.0000\n",
            "Epoch 333/400\n",
            "114/114 [==============================] - 0s 3ms/step - loss: 27592468480.0000 - val_loss: 27244105728.0000\n",
            "Epoch 334/400\n",
            "114/114 [==============================] - 0s 2ms/step - loss: 27632338944.0000 - val_loss: 27251507200.0000\n",
            "Epoch 335/400\n",
            "114/114 [==============================] - 0s 3ms/step - loss: 27636527104.0000 - val_loss: 27246686208.0000\n",
            "Epoch 336/400\n",
            "114/114 [==============================] - 0s 2ms/step - loss: 27593408512.0000 - val_loss: 27208577024.0000\n",
            "Epoch 337/400\n",
            "114/114 [==============================] - 0s 3ms/step - loss: 27581442048.0000 - val_loss: 27263928320.0000\n",
            "Epoch 338/400\n",
            "114/114 [==============================] - 0s 3ms/step - loss: 27563397120.0000 - val_loss: 27179728896.0000\n",
            "Epoch 339/400\n",
            "114/114 [==============================] - 0s 3ms/step - loss: 27591116800.0000 - val_loss: 27182290944.0000\n",
            "Epoch 340/400\n",
            "114/114 [==============================] - 0s 3ms/step - loss: 27571435520.0000 - val_loss: 27174019072.0000\n",
            "Epoch 341/400\n",
            "114/114 [==============================] - 0s 2ms/step - loss: 27541252096.0000 - val_loss: 27176327168.0000\n",
            "Epoch 342/400\n",
            "114/114 [==============================] - 0s 2ms/step - loss: 27537530880.0000 - val_loss: 27169984512.0000\n",
            "Epoch 343/400\n",
            "114/114 [==============================] - 0s 2ms/step - loss: 27570313216.0000 - val_loss: 27167678464.0000\n",
            "Epoch 344/400\n",
            "114/114 [==============================] - 0s 3ms/step - loss: 27500558336.0000 - val_loss: 27159803904.0000\n",
            "Epoch 345/400\n",
            "114/114 [==============================] - 0s 2ms/step - loss: 27519131648.0000 - val_loss: 27192137728.0000\n",
            "Epoch 346/400\n",
            "114/114 [==============================] - 0s 2ms/step - loss: 27508396032.0000 - val_loss: 27196299264.0000\n",
            "Epoch 347/400\n",
            "114/114 [==============================] - 0s 3ms/step - loss: 27507890176.0000 - val_loss: 27137013760.0000\n",
            "Epoch 348/400\n",
            "114/114 [==============================] - 0s 3ms/step - loss: 27586273280.0000 - val_loss: 27148238848.0000\n",
            "Epoch 349/400\n",
            "114/114 [==============================] - 0s 3ms/step - loss: 27511105536.0000 - val_loss: 27145635840.0000\n",
            "Epoch 350/400\n",
            "114/114 [==============================] - 0s 2ms/step - loss: 27488378880.0000 - val_loss: 27171139584.0000\n",
            "Epoch 351/400\n",
            "114/114 [==============================] - 0s 3ms/step - loss: 27463481344.0000 - val_loss: 27130820608.0000\n",
            "Epoch 352/400\n",
            "114/114 [==============================] - 0s 3ms/step - loss: 27482226688.0000 - val_loss: 27153029120.0000\n",
            "Epoch 353/400\n",
            "114/114 [==============================] - 0s 2ms/step - loss: 27499661312.0000 - val_loss: 27143839744.0000\n",
            "Epoch 354/400\n",
            "114/114 [==============================] - 0s 3ms/step - loss: 27444119552.0000 - val_loss: 27086571520.0000\n",
            "Epoch 355/400\n",
            "114/114 [==============================] - 0s 2ms/step - loss: 27451668480.0000 - val_loss: 27084171264.0000\n",
            "Epoch 356/400\n",
            "114/114 [==============================] - 0s 3ms/step - loss: 27464515584.0000 - val_loss: 27077234688.0000\n",
            "Epoch 357/400\n",
            "114/114 [==============================] - 0s 2ms/step - loss: 27430340608.0000 - val_loss: 27153625088.0000\n",
            "Epoch 358/400\n",
            "114/114 [==============================] - 0s 3ms/step - loss: 27412412416.0000 - val_loss: 27068710912.0000\n",
            "Epoch 359/400\n",
            "114/114 [==============================] - 0s 2ms/step - loss: 27419277312.0000 - val_loss: 27070742528.0000\n",
            "Epoch 360/400\n",
            "114/114 [==============================] - 0s 2ms/step - loss: 27393720320.0000 - val_loss: 27092215808.0000\n",
            "Epoch 361/400\n",
            "114/114 [==============================] - 0s 3ms/step - loss: 27409776640.0000 - val_loss: 27020613632.0000\n",
            "Epoch 362/400\n",
            "114/114 [==============================] - 0s 2ms/step - loss: 27559446528.0000 - val_loss: 27035832320.0000\n",
            "Epoch 363/400\n",
            "114/114 [==============================] - 0s 3ms/step - loss: 27349981184.0000 - val_loss: 27203465216.0000\n",
            "Epoch 364/400\n",
            "114/114 [==============================] - 0s 2ms/step - loss: 27423459328.0000 - val_loss: 27007426560.0000\n",
            "Epoch 365/400\n",
            "114/114 [==============================] - 0s 2ms/step - loss: 27385403392.0000 - val_loss: 27031891968.0000\n",
            "Epoch 366/400\n",
            "114/114 [==============================] - 0s 2ms/step - loss: 27377360896.0000 - val_loss: 26998740992.0000\n",
            "Epoch 367/400\n",
            "114/114 [==============================] - 0s 3ms/step - loss: 27376711680.0000 - val_loss: 27017363456.0000\n",
            "Epoch 368/400\n",
            "114/114 [==============================] - 0s 3ms/step - loss: 27330740224.0000 - val_loss: 26995892224.0000\n",
            "Epoch 369/400\n",
            "114/114 [==============================] - 0s 3ms/step - loss: 27328372736.0000 - val_loss: 26992824320.0000\n",
            "Epoch 370/400\n",
            "114/114 [==============================] - 0s 3ms/step - loss: 27310553088.0000 - val_loss: 27075465216.0000\n",
            "Epoch 371/400\n",
            "114/114 [==============================] - 0s 3ms/step - loss: 27309565952.0000 - val_loss: 27109615616.0000\n",
            "Epoch 372/400\n",
            "114/114 [==============================] - 0s 2ms/step - loss: 27334785024.0000 - val_loss: 26983892992.0000\n",
            "Epoch 373/400\n",
            "114/114 [==============================] - 0s 3ms/step - loss: 27340447744.0000 - val_loss: 26975059968.0000\n",
            "Epoch 374/400\n",
            "114/114 [==============================] - 0s 2ms/step - loss: 27318763520.0000 - val_loss: 26997198848.0000\n",
            "Epoch 375/400\n",
            "114/114 [==============================] - 0s 2ms/step - loss: 27283423232.0000 - val_loss: 27024289792.0000\n",
            "Epoch 376/400\n",
            "114/114 [==============================] - 0s 2ms/step - loss: 27271096320.0000 - val_loss: 27077101568.0000\n",
            "Epoch 377/400\n",
            "114/114 [==============================] - 0s 2ms/step - loss: 27285280768.0000 - val_loss: 26991114240.0000\n",
            "Epoch 378/400\n",
            "114/114 [==============================] - 0s 3ms/step - loss: 27269386240.0000 - val_loss: 26959640576.0000\n",
            "Epoch 379/400\n",
            "114/114 [==============================] - 0s 3ms/step - loss: 27233458176.0000 - val_loss: 26986846208.0000\n",
            "Epoch 380/400\n",
            "114/114 [==============================] - 0s 3ms/step - loss: 27289915392.0000 - val_loss: 26995984384.0000\n",
            "Epoch 381/400\n",
            "114/114 [==============================] - 0s 3ms/step - loss: 27227215872.0000 - val_loss: 26933243904.0000\n",
            "Epoch 382/400\n",
            "114/114 [==============================] - 0s 3ms/step - loss: 27233843200.0000 - val_loss: 26943524864.0000\n",
            "Epoch 383/400\n",
            "114/114 [==============================] - 0s 3ms/step - loss: 27227160576.0000 - val_loss: 26888144896.0000\n",
            "Epoch 384/400\n",
            "114/114 [==============================] - 0s 3ms/step - loss: 27256965120.0000 - val_loss: 26897258496.0000\n",
            "Epoch 385/400\n",
            "114/114 [==============================] - 0s 3ms/step - loss: 27251357696.0000 - val_loss: 26908088320.0000\n",
            "Epoch 386/400\n",
            "114/114 [==============================] - 0s 2ms/step - loss: 27195719680.0000 - val_loss: 26877052928.0000\n",
            "Epoch 387/400\n",
            "114/114 [==============================] - 0s 2ms/step - loss: 27202437120.0000 - val_loss: 26897055744.0000\n",
            "Epoch 388/400\n",
            "114/114 [==============================] - 0s 3ms/step - loss: 27195809792.0000 - val_loss: 26872154112.0000\n",
            "Epoch 389/400\n",
            "114/114 [==============================] - 0s 3ms/step - loss: 27219546112.0000 - val_loss: 26944702464.0000\n",
            "Epoch 390/400\n",
            "114/114 [==============================] - 0s 3ms/step - loss: 27382560768.0000 - val_loss: 27017283584.0000\n",
            "Epoch 391/400\n",
            "114/114 [==============================] - 0s 3ms/step - loss: 27162423296.0000 - val_loss: 26854725632.0000\n",
            "Epoch 392/400\n",
            "114/114 [==============================] - 0s 3ms/step - loss: 27184211968.0000 - val_loss: 26912868352.0000\n",
            "Epoch 393/400\n",
            "114/114 [==============================] - 0s 3ms/step - loss: 27155150848.0000 - val_loss: 26925234176.0000\n",
            "Epoch 394/400\n",
            "114/114 [==============================] - 0s 3ms/step - loss: 27135662080.0000 - val_loss: 26829158400.0000\n",
            "Epoch 395/400\n",
            "114/114 [==============================] - 0s 3ms/step - loss: 27112937472.0000 - val_loss: 26821208064.0000\n",
            "Epoch 396/400\n",
            "114/114 [==============================] - 0s 3ms/step - loss: 27100039168.0000 - val_loss: 26898581504.0000\n",
            "Epoch 397/400\n",
            "114/114 [==============================] - 0s 3ms/step - loss: 27146919936.0000 - val_loss: 26833528832.0000\n",
            "Epoch 398/400\n",
            "114/114 [==============================] - 0s 3ms/step - loss: 27096096768.0000 - val_loss: 26874292224.0000\n",
            "Epoch 399/400\n",
            "114/114 [==============================] - 0s 3ms/step - loss: 27106283520.0000 - val_loss: 26819223552.0000\n",
            "Epoch 400/400\n",
            "114/114 [==============================] - 0s 2ms/step - loss: 27106979840.0000 - val_loss: 26795399168.0000\n"
          ],
          "name": "stdout"
        },
        {
          "output_type": "execute_result",
          "data": {
            "text/plain": [
              "<tensorflow.python.keras.callbacks.History at 0x7f9b2f9b24d0>"
            ]
          },
          "metadata": {
            "tags": []
          },
          "execution_count": 62
        }
      ]
    },
    {
      "cell_type": "code",
      "metadata": {
        "colab": {
          "base_uri": "https://localhost:8080/"
        },
        "id": "ECQrMSEBedUv",
        "outputId": "504e492f-6dc1-431f-d0ba-787d863a933e"
      },
      "source": [
        "model.summary()"
      ],
      "execution_count": null,
      "outputs": [
        {
          "output_type": "stream",
          "text": [
            "Model: \"sequential_1\"\n",
            "_________________________________________________________________\n",
            "Layer (type)                 Output Shape              Param #   \n",
            "=================================================================\n",
            "dense_5 (Dense)              (None, 19)                380       \n",
            "_________________________________________________________________\n",
            "dense_6 (Dense)              (None, 19)                380       \n",
            "_________________________________________________________________\n",
            "dense_7 (Dense)              (None, 19)                380       \n",
            "_________________________________________________________________\n",
            "dense_8 (Dense)              (None, 19)                380       \n",
            "_________________________________________________________________\n",
            "dense_9 (Dense)              (None, 1)                 20        \n",
            "=================================================================\n",
            "Total params: 1,540\n",
            "Trainable params: 1,540\n",
            "Non-trainable params: 0\n",
            "_________________________________________________________________\n"
          ],
          "name": "stdout"
        }
      ]
    },
    {
      "cell_type": "code",
      "metadata": {
        "colab": {
          "base_uri": "https://localhost:8080/",
          "height": 512
        },
        "id": "VO7IFkZper3J",
        "outputId": "c07ffc3c-fa68-445d-828f-b866198662da"
      },
      "source": [
        "loss_df = pd.DataFrame(model.history.history)\n",
        "loss_df.plot(figsize=(12,8))"
      ],
      "execution_count": null,
      "outputs": [
        {
          "output_type": "execute_result",
          "data": {
            "text/plain": [
              "<matplotlib.axes._subplots.AxesSubplot at 0x7f9b30a529d0>"
            ]
          },
          "metadata": {
            "tags": []
          },
          "execution_count": 64
        },
        {
          "output_type": "display_data",
          "data": {
            "image/png": "[encoded data removed]",
            "text/plain": [
              "<Figure size 864x576 with 1 Axes>"
            ]
          },
          "metadata": {
            "tags": [],
            "needs_background": "light"
          }
        }
      ]
    },
    {
      "cell_type": "code",
      "metadata": {
        "colab": {
          "base_uri": "https://localhost:8080/"
        },
        "id": "FHY7AI5gexlK",
        "outputId": "bd46e728-a1f6-455a-d444-de60b29fecd6"
      },
      "source": [
        "y_pred = model.predict(X_test)\n",
        "y_pred"
      ],
      "execution_count": null,
      "outputs": [
        {
          "output_type": "execute_result",
          "data": {
            "text/plain": [
              "array([[468944.9 ],\n",
              "       [620294.75],\n",
              "       [591730.2 ],\n",
              "       ...,\n",
              "       [317208.  ],\n",
              "       [497649.22],\n",
              "       [594982.75]], dtype=float32)"
            ]
          },
          "metadata": {
            "tags": []
          },
          "execution_count": 65
        }
      ]
    },
    {
      "cell_type": "code",
      "metadata": {
        "colab": {
          "base_uri": "https://localhost:8080/"
        },
        "id": "fJFxu0uqhJRh",
        "outputId": "04921fa4-cadb-479d-b000-02332c2ea809"
      },
      "source": [
        "from sklearn import metrics\n",
        "\n",
        "print('Mean Absolute Error: {:.2f}'.format(metrics.mean_absolute_error(y_test, y_pred)))\n",
        "print('Mean Squared Error: {:.2f}'.format(metrics.mean_squared_error(y_test, y_pred)))\n",
        "print('Root Mean Squared Error: {:.2f}'.format(np.sqrt(metrics.mean_squared_error(y_test, y_pred))))\n",
        "print('Variance score is: {:.2f}'.format(metrics.explained_variance_score(y_test,y_pred)))"
      ],
      "execution_count": null,
      "outputs": [
        {
          "output_type": "stream",
          "text": [
            "Mean Absolute Error: 101658.34\n",
            "Mean Squared Error: 26795398869.39\n",
            "Root Mean Squared Error: 163693.00\n",
            "Variance score is: 0.80\n"
          ],
          "name": "stdout"
        }
      ]
    },
    {
      "cell_type": "code",
      "metadata": {
        "colab": {
          "base_uri": "https://localhost:8080/",
          "height": 369
        },
        "id": "tau--lIEhgVf",
        "outputId": "666e11fb-73fe-4cab-8462-881f24277caa"
      },
      "source": [
        "# Our predictions\n",
        "fig = plt.figure(figsize=(10,5))\n",
        "plt.scatter(y_test,y_pred)\n",
        "# Perfect predictions\n",
        "plt.plot(y_test,y_test,'r')\n",
        "plt.tight_layout()"
      ],
      "execution_count": null,
      "outputs": [
        {
          "output_type": "display_data",
          "data": {
            "image/png": "[encoded data removed]",
            "text/plain": [
              "<Figure size 720x360 with 1 Axes>"
            ]
          },
          "metadata": {
            "tags": [],
            "needs_background": "light"
          }
        }
      ]
    },
    {
      "cell_type": "code",
      "metadata": {
        "colab": {
          "base_uri": "https://localhost:8080/"
        },
        "id": "KamHSL-3hqbm",
        "outputId": "0acbb50a-9080-4dec-893a-71775c8872c4"
      },
      "source": [
        "print('Model: Keras Regression\\n')\n",
        "\n",
        "print('Mean Absolute Error(MAE): {:.2f}'.format(metrics.mean_absolute_error(y_test, y_pred)))\n",
        "print('Mean Squared Error(MSE): {:.2f}'.format(metrics.mean_squared_error(y_test, y_pred)))\n",
        "print('Root Mean Squared Error(RMSE): {:.2f}'.format(np.sqrt(metrics.mean_squared_error(y_test, y_pred))))\n",
        "print('Variance score: {:.2f}\\n'.format(metrics.explained_variance_score(y_test,y_pred)*100))\n",
        "print('*********************************\\n')\n",
        "print('Model: Multiple Linear Regression\\n')\n",
        "print('Mean Absolute Error(MAE): {:.2f}'.format(metrics.mean_absolute_error(y_test, y_predd))) \n",
        "print('Mean Squared Error(MSE):{:.2f}'.format(metrics.mean_squared_error(y_test, y_predd)))  \n",
        "print('Root Mean Squared Error(RMSE):{:.2f}'.format(np.sqrt(metrics.mean_squared_error(y_test, y_predd))))\n",
        "print('Variance score: {:.2f}'.format(metrics.explained_variance_score(y_test,y_predd)*100))"
      ],
      "execution_count": null,
      "outputs": [
        {
          "output_type": "stream",
          "text": [
            "Model: Keras Regression\n",
            "\n",
            "Mean Absolute Error(MAE): 101658.34\n",
            "Mean Squared Error(MSE): 26795398869.39\n",
            "Root Mean Squared Error(RMSE): 163693.00\n",
            "Variance score: 80.46\n",
            "\n",
            "*********************************\n",
            "\n",
            "Model: Multiple Linear Regression\n",
            "\n",
            "Mean Absolute Error(MAE): 125933.74\n",
            "Mean Squared Error(MSE):40601153229.62\n",
            "Root Mean Squared Error(RMSE):201497.28\n",
            "Variance score: 70.40\n"
          ],
          "name": "stdout"
        }
      ]
    },
    {
      "cell_type": "code",
      "metadata": {
        "id": "nekMqdwqjcEq"
      },
      "source": [
        "single_house = Data.drop('price',axis = 1).iloc[1]"
      ],
      "execution_count": null,
      "outputs": []
    },
    {
      "cell_type": "code",
      "metadata": {
        "id": "MuAzUidjjdEq"
      },
      "source": [
        "single_house = s_scaler.transform(single_house.values.reshape(-1,19))"
      ],
      "execution_count": null,
      "outputs": []
    },
    {
      "cell_type": "code",
      "metadata": {
        "colab": {
          "base_uri": "https://localhost:8080/"
        },
        "id": "ZCuZEMLjjf0S",
        "outputId": "7da01394-0380-459d-c6bf-73aaf900a111"
      },
      "source": [
        "model.predict(single_house)\n"
      ],
      "execution_count": null,
      "outputs": [
        {
          "output_type": "execute_result",
          "data": {
            "text/plain": [
              "array([[604299.25]], dtype=float32)"
            ]
          },
          "metadata": {
            "tags": []
          },
          "execution_count": 71
        }
      ]
    },
    {
      "cell_type": "code",
      "metadata": {
        "colab": {
          "base_uri": "https://localhost:8080/"
        },
        "id": "XNTXdZGDjjv1",
        "outputId": "6d926085-3b46-43da-ffe5-eb8cc4c59acf"
      },
      "source": [
        "Data['price'][1]"
      ],
      "execution_count": null,
      "outputs": [
        {
          "output_type": "execute_result",
          "data": {
            "text/plain": [
              "538000.0"
            ]
          },
          "metadata": {
            "tags": []
          },
          "execution_count": 72
        }
      ]
    }
  ]
}